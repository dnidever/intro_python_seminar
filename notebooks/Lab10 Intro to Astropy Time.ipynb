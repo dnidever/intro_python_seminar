{
 "cells": [
  {
   "cell_type": "markdown",
   "metadata": {},
   "source": [
    "# Lab 10: Intro to Astropy Time\n",
    "Besides coordinates one of the other major transformations that people tend to do is working with time. Astropy has several ways to help you go back and forth between different time units. (This notebook is based on the astropy.time tutorial)."
   ]
  },
  {
   "cell_type": "code",
   "execution_count": null,
   "metadata": {},
   "outputs": [],
   "source": [
    "from astropy.time import Time\n",
    "import datetime\n",
    "%matplotlib inline\n",
    "import matplotlib.pyplot as plt\n",
    "import numpy as np\n",
    "import astropy.coordinates as coord\n",
    "import astropy.units as u"
   ]
  },
  {
   "cell_type": "code",
   "execution_count": null,
   "metadata": {},
   "outputs": [],
   "source": [
    "times = ['1999-01-01T00:00:00.123456789', '2010-01-01T00:00:00'] #These are UTC times\n",
    "t = Time(times, format='isot', scale='utc')\n",
    "print(t)"
   ]
  },
  {
   "cell_type": "markdown",
   "metadata": {},
   "source": [
    "## Time Formats\n",
    "One of the first things you are going to want to be able to do is convert among a variety of formats. Generally speacking you will have a time in the form of a date and an HH:MM:SS.S, and you will need a way to go to the many different representations of time.\n",
    "\n",
    "| Format \t|Class \t|Example argument|\n",
    "| ---- | ---- | ---- |\n",
    "| byear \t|TimeBesselianEpoch \t|1950.0|\n",
    "| byear_str \t|TimeBesselianEpochString \t|‘B1950.0’|\n",
    "| cxcsec \t|TimeCxcSec \t|63072064.184|\n",
    "| datetime \t|TimeDatetime \t|datetime(2000, 1, 2, 12, 0, 0)|\n",
    "| decimalyear \t|TimeDecimalYear \t|2000.45|\n",
    "| fits \t|TimeFITS \t|‘2000-01-01T00:00:00.000(TAI)’|\n",
    "| gps \t|TimeGPS \t|630720013.0|\n",
    "| iso \t|TimeISO \t|‘2000-01-01 00:00:00.000’|\n",
    "| isot \t|TimeISOT \t|‘2000-01-01T00:00:00.000’|\n",
    "| jd \t|TimeJD \t|2451544.5|\n",
    "| jyear \t|TimeJulianEpoch \t|2000.0|\n",
    "| jyear_str \t|TimeJulianEpochString \t|‘J2000.0’|\n",
    "| mjd \t|TimeMJD \t|51544.0|\n",
    "| plot_date \t|TimePlotDate \t|730120.0003703703|\n",
    "| unix \t|TimeUnix \t|946684800.0|\n",
    "| yday \t|TimeYearDayTime \t|2000:001:00:00:00.000|"
   ]
  },
  {
   "cell_type": "code",
   "execution_count": null,
   "metadata": {},
   "outputs": [],
   "source": [
    "for formats in Time.FORMATS:\n",
    "    print(\"{}, \".format(formats),end=\"\")"
   ]
  },
  {
   "cell_type": "markdown",
   "metadata": {},
   "source": [
    "You can change format by setting the format object to a new value."
   ]
  },
  {
   "cell_type": "code",
   "execution_count": null,
   "metadata": {},
   "outputs": [],
   "source": [
    "t.format = 'jd'\n",
    "print(t[0])\n",
    "print(t[0].jd)\n",
    "print(\"{:.8f}\".format(t[0].jd)) #Be careful about rounding"
   ]
  },
  {
   "cell_type": "markdown",
   "metadata": {},
   "source": [
    "## Time Scales\n",
    "As we discussed in class there are many different types of time whether you are using atomic time, Universal Time etc. A list of time can be found here: http://docs.astropy.org/en/stable/time/#id6. The default scale is UTC."
   ]
  },
  {
   "cell_type": "code",
   "execution_count": null,
   "metadata": {},
   "outputs": [],
   "source": [
    "t = Time('2010-01-01 00:00:00', format='iso', scale='utc')\n",
    "print(t.tt)        # TT scale\n",
    "print(t.tai)       # TAI scale"
   ]
  },
  {
   "cell_type": "markdown",
   "metadata": {},
   "source": [
    "## Current Time\n",
    "Sometimes you need the current UTC time."
   ]
  },
  {
   "cell_type": "code",
   "execution_count": null,
   "metadata": {},
   "outputs": [],
   "source": [
    "nt = Time.now()\n",
    "print(nt)"
   ]
  },
  {
   "cell_type": "markdown",
   "metadata": {},
   "source": [
    "## A Note about Timezones\n",
    "In this notebook we do not discuss timezones. The reason is that timezones with daylight savings time become problematic during the daylight savings time transition. As a result, all calculations should be done in UTC, and only converted into a given timezone at the very end."
   ]
  },
  {
   "cell_type": "markdown",
   "metadata": {},
   "source": [
    "## Formating Time\n",
    "You can create exactly the time you want using the following format codes. Note you need to transform to at datetime time object to be able to use them.\n",
    "\n",
    "| Code | Result |\n",
    "|----|----|\n",
    "| %a | Weekday as locale’s abbreviated name. |\n",
    "| %A | Weekday as locale’s full name. |\n",
    "| %w | Weekday as a decimal number, where 0 is Sunday and 6 is Saturday. | \t \n",
    "| %d | Day of the month as a zero-padded decimal number. |\t \n",
    "| %b | Month as locale’s abbreviated name. |\n",
    "| %B | Month as locale’s full name. | \n",
    "| %m | Month as a zero-padded decimal number. | \t \n",
    "| %y | Year without century as a zero-padded decimal number.| \n",
    "| %Y | Year with century as a decimal number.| \t\n",
    "| %H |\tHour (24-hour clock) as a zero-padded decimal number. |\t \n",
    "| %I |\tHour (12-hour clock) as a zero-padded decimal number. |\t\n",
    "| %p |\tLocale’s equivalent of either AM or PM. |\n",
    "| %M |\tMinute as a zero-padded decimal number. |\t\n",
    "| %S |\tSecond as a zero-padded decimal number. |\t\n",
    "| %f |\tMicrosecond as a decimal number, zero-padded on the left.|\n",
    "| %z |\tUTC offset in the form +HHMM or -HHMM (empty string if the the object is naive).| \t\n",
    "| %Z |\tTime zone name (empty string if the object is naive).|\n",
    "| %j |\tDay of the year as a zero-padded decimal number. |\n",
    "| %c |\tLocale’s appropriate date and time representation.| \t\n",
    "| %x |\tLocale’s appropriate date representation. |\n",
    "| %X |\tLocale’s appropriate time representation. |\n",
    "| %% |\tA literal '%' character.|"
   ]
  },
  {
   "cell_type": "code",
   "execution_count": null,
   "metadata": {},
   "outputs": [],
   "source": [
    "print((nt.datetime).strftime('Hour: %H Minute:%M Second:%S')) "
   ]
  },
  {
   "cell_type": "markdown",
   "metadata": {},
   "source": [
    "## Plotting Time\n",
    "Time objects can be handled by matplotlib without issue, but you must call the plot_date or datetime decorators for `plot_date()` and `plot()` respectively."
   ]
  },
  {
   "cell_type": "code",
   "execution_count": null,
   "metadata": {},
   "outputs": [],
   "source": [
    "jyear = np.linspace(2000, 2001, 20)  \n",
    "t = Time(jyear, format='jyear')  \n",
    "plt.plot_date(t.plot_date, jyear)  \n",
    "plt.gcf().autofmt_xdate()  # orient date labels at a slant  \n",
    "plt.tight_layout()"
   ]
  },
  {
   "cell_type": "code",
   "execution_count": null,
   "metadata": {},
   "outputs": [],
   "source": [
    "#This can give you much more control over the date\n",
    "from matplotlib.dates import DateFormatter\n",
    "\n",
    "jyear = np.linspace(2000.0001, 2000.0003, 20)  \n",
    "t = Time(jyear, format='jyear')  \n",
    "\n",
    "plt.subplot(1,2,1)\n",
    "plt.plot(t.datetime,jyear-2000)\n",
    "formatter = DateFormatter('%H') #Choose your time format\n",
    "plt.gcf().axes[0].xaxis.set_major_formatter(formatter)\n",
    "\n",
    "#Changing the format\n",
    "plt.subplot(1,2,2)\n",
    "plt.plot(t.datetime,jyear-2000)\n",
    "\n",
    "formatter = DateFormatter('%H:%M:%S') #Choose your time format\n",
    "plt.gcf().axes[1].xaxis.set_major_formatter(formatter)\n",
    "plt.xticks(rotation=35, ha='right')[1] #Rotate axis\n",
    "#plt.gcf().autofmt_xdate()  # Doesn't work well in subplots\n",
    "plt.tight_layout()"
   ]
  },
  {
   "cell_type": "markdown",
   "metadata": {},
   "source": [
    "## Time Differences\n",
    "Time objects can be added and subtracted in the normal way. Time objects should handle mixed scales okay, but you should be aware of when this is happening."
   ]
  },
  {
   "cell_type": "code",
   "execution_count": null,
   "metadata": {},
   "outputs": [],
   "source": [
    "t1 = Time('2010-01-01 00:00:00')\n",
    "t2 = Time('2010-02-01 00:00:00')\n",
    "dt = t2 - t1  # Difference between two Times\n",
    "print(dt)\n",
    "print(dt.sec)\n",
    "\n",
    "from astropy.time import TimeDelta\n",
    "dt2 = TimeDelta(50.0, format='sec')\n",
    "t3 = t2 + dt2  # Add a TimeDelta to a Time\n",
    "print(t3.iso)\n",
    "print(t2 - dt2)  # Subtract a TimeDelta from a Time"
   ]
  },
  {
   "cell_type": "markdown",
   "metadata": {},
   "source": [
    "## Heliocentric and Barycentric times\n",
    "For precision measurements it is usually useful to move to either the helio center or barycenter of the solar system."
   ]
  },
  {
   "cell_type": "code",
   "execution_count": null,
   "metadata": {},
   "outputs": [],
   "source": [
    "ip_peg = coord.SkyCoord(\"23:23:08.55\", \"+18:24:59.3\", unit=(u.hourangle, u.deg), frame='icrs')\n",
    "greenwich = coord.EarthLocation.of_site('greenwich')\n",
    "times = Time([56325.95833333, 56325.978254], format='mjd', scale='utc', location=greenwich)\n",
    "ltt_bary = times.light_travel_time(ip_peg)\n",
    "ltt_helio = times.light_travel_time(ip_peg, 'heliocentric')\n",
    "times_heliocentre = times.utc + ltt_helio\n",
    "print(times_heliocentre)\n",
    "times_barycentre = times.tdb + ltt_bary\n",
    "print(times_barycentre)\n",
    "diff = times_barycentre - times_heliocentre\n",
    "print(diff.sec)"
   ]
  },
  {
   "cell_type": "markdown",
   "metadata": {},
   "source": [
    "## Sidereal Time\n",
    "There is also a nice function for getting sidereal time at a given location. Note the times are **UTC**. The location must be a tuple of (longitude, latitude) where longitude is positive east longitude (west is negative).(You can convert a negative or west longitude by adding 360). The mean sidereal time is similar to mean solar time in that it averages out annual variations. The apparent sidereal time is equal to the right ascension on the meridian. **The apparent sidereal time is the one will use when I ask for sidereal time.**"
   ]
  },
  {
   "cell_type": "code",
   "execution_count": null,
   "metadata": {},
   "outputs": [],
   "source": [
    "t = Time('2006-01-15 21:24:37.5', scale='utc', location=('120d', '45d')) #(East Longitude, latitude)\n",
    "print(t.sidereal_time('mean'))  \n",
    "print(t.sidereal_time('apparent')) #This is what you should generally use."
   ]
  },
  {
   "cell_type": "markdown",
   "metadata": {},
   "source": [
    "## Lab 10: Now it is your turn\n",
    "Please answer the following questions, then print them off and turn them in. You don't need to print the whole notebook. Only print the pages starting from here."
   ]
  },
  {
   "cell_type": "markdown",
   "metadata": {},
   "source": [
    "Name: "
   ]
  },
  {
   "cell_type": "markdown",
   "metadata": {},
   "source": [
    "**Q1: Convert the following UTC date: `11-02-2016 at 3:15:12.5` into the formats: fits time, jd, mjd, and decimal year.**"
   ]
  },
  {
   "cell_type": "code",
   "execution_count": null,
   "metadata": {},
   "outputs": [],
   "source": []
  },
  {
   "cell_type": "markdown",
   "metadata": {},
   "source": [
    "**Q2: Print the Current time and Local Sidereal time.**"
   ]
  },
  {
   "cell_type": "code",
   "execution_count": null,
   "metadata": {},
   "outputs": [],
   "source": []
  },
  {
   "cell_type": "markdown",
   "metadata": {},
   "source": [
    "**Q3: Vega was observed in Highland Heights on October 1st, 2016 at 10:41:35.2pm UTC. Calculate the following information for that date:**\n",
    "* 2000 Equatorial Coordinates of Vega\n",
    "* Alt Az Coordinates of Vega\n",
    "* Local Sidereal Time\n",
    "* Julian Date\n",
    "* Modified Julian Date\n",
    "* Heliocentric Julian Date\n",
    "* Barycentric Julian Date"
   ]
  },
  {
   "cell_type": "code",
   "execution_count": null,
   "metadata": {},
   "outputs": [],
   "source": []
  }
 ],
 "metadata": {
  "kernelspec": {
   "display_name": "Python 3 (ipykernel)",
   "language": "python",
   "name": "python3"
  },
  "language_info": {
   "codemirror_mode": {
    "name": "ipython",
    "version": 3
   },
   "file_extension": ".py",
   "mimetype": "text/x-python",
   "name": "python",
   "nbconvert_exporter": "python",
   "pygments_lexer": "ipython3",
   "version": "3.9.7"
  }
 },
 "nbformat": 4,
 "nbformat_minor": 4
}
