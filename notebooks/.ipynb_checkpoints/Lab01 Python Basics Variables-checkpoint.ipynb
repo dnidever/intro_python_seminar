{
 "cells": [
  {
   "cell_type": "markdown",
   "metadata": {},
   "source": [
    "# Lab 1: Python Basics\n",
    "This is a guide to getting to know Python 3. We will go through some of the basic stuff here. In order to execute a cell, type 'shift+enter'. Once you are done with this lab, go to File -> Download As and save your solution as a pdf, which you can print off to turn in. If you are having line wrap issues, you can also use File -> Print Preview and then print to pdf or paper. **You only need to print off the pages with your answers in the Your Turn Section.**"
   ]
  },
  {
   "cell_type": "markdown",
   "metadata": {},
   "source": [
    "## Variables Assignments\n",
    "In Python names are assigned to objects by using '='. <br />\n",
    "We can assign both numbers (integers or floats) and \"strings\". You don't need to assign a type to the variable name, it is assigned automatically. Variable names can contain letters, numbers and underscores, but can't start with a number. \n",
    "\n",
    "There is also a set of <span style='color:red'>Reserved Words</span>, which cannot be used as variable names because they have special meanings in python. <span style='color:red'>Reserved Words: and, assert, break, class, continue, def, del, elif, else, except, exec, finally, for, from, global, if, import, in, is, lambda, not, or, pass, print, raise, return, try, while</span>\n",
    "\n",
    "Comments use a `#`"
   ]
  },
  {
   "cell_type": "code",
   "execution_count": null,
   "metadata": {},
   "outputs": [],
   "source": [
    "x = 34 - 23 # A comment."
   ]
  },
  {
   "cell_type": "code",
   "execution_count": null,
   "metadata": {},
   "outputs": [],
   "source": [
    "y = \"Hello\" # Another one."
   ]
  },
  {
   "cell_type": "code",
   "execution_count": null,
   "metadata": {},
   "outputs": [],
   "source": [
    "z = 3.45"
   ]
  },
  {
   "cell_type": "markdown",
   "metadata": {
    "tags": []
   },
   "source": [
    "## Types of Variables\n",
    "There are three major object types:\n",
    "- integers '2'\n",
    "- Floats '2.1'\n",
    "- Strings \"Two\"\n",
    "\n",
    "Mathematical operators work differently on the different types of variables the main mathematical operators are: \n",
    "\n",
    "|Operator | Description | Operator | Description |\n",
    "|:---:|---|:---:|---|\n",
    "| \\+ | Addition / Concatenation |   % | Modulus (remainder of the division) / old way of doing string formating|\n",
    "| \\- | Subtraction |   // | Floor division (throw away the remainder) |\n",
    "| \\* | Multipication / repeat |     \\*\\* | Power|\n",
    "| /  | Division  |||\n",
    "\n",
    "When using multiple operators you can use **( )** to control precedence otherwise it is similar to math (high to low precendence): power, multiplication and division, addition and subtraction."
   ]
  },
  {
   "cell_type": "code",
   "execution_count": null,
   "metadata": {},
   "outputs": [],
   "source": [
    "print(x) #The print function prints the value of a variable\n",
    "print(y)\n",
    "print(z)"
   ]
  },
  {
   "cell_type": "code",
   "execution_count": null,
   "metadata": {},
   "outputs": [],
   "source": [
    "print(type(x)) #Prints the type of the variable\n",
    "print(type(y))\n",
    "print(type(z))"
   ]
  },
  {
   "cell_type": "code",
   "execution_count": null,
   "metadata": {},
   "outputs": [],
   "source": [
    "x = x + 1\n",
    "y = y + \" World\" # String concatenation"
   ]
  },
  {
   "cell_type": "code",
   "execution_count": null,
   "metadata": {},
   "outputs": [],
   "source": [
    "print(x)\n",
    "print(y)"
   ]
  },
  {
   "cell_type": "code",
   "execution_count": null,
   "metadata": {},
   "outputs": [],
   "source": [
    "x = 5 / 2\n",
    "y = 5 // 2\n",
    "z = 5.0 // 2.0\n",
    "print(x)\n",
    "print(type(x))\n",
    "print(y)\n",
    "print(type(y))\n",
    "print(z)\n",
    "print(type(z))"
   ]
  },
  {
   "cell_type": "code",
   "execution_count": null,
   "metadata": {},
   "outputs": [],
   "source": [
    "print(\"mine\"*3) #Repitions\n",
    "print(6.0**2)\n",
    "print(34.0 / 4.0)\n",
    "print(34.0 % 4.0)\n",
    "print(34.0 // 4.0)"
   ]
  },
  {
   "cell_type": "markdown",
   "metadata": {},
   "source": [
    "We can change the order of operations with parathesis"
   ]
  },
  {
   "cell_type": "code",
   "execution_count": null,
   "metadata": {},
   "outputs": [],
   "source": [
    "15 + 22 * 4 - 100"
   ]
  },
  {
   "cell_type": "code",
   "execution_count": null,
   "metadata": {},
   "outputs": [],
   "source": [
    "(15 + 22) * (4 - 100)"
   ]
  },
  {
   "cell_type": "markdown",
   "metadata": {},
   "source": [
    "### Strings\n",
    "You can assign strings using any of the following:\n",
    "- `'text'`\n",
    "- `\"text\"`\n",
    "- `'''text'''`\n",
    "- `\"\"\"text\"\"\"`"
   ]
  },
  {
   "cell_type": "code",
   "execution_count": null,
   "metadata": {},
   "outputs": [],
   "source": [
    "'text'"
   ]
  },
  {
   "cell_type": "code",
   "execution_count": null,
   "metadata": {},
   "outputs": [],
   "source": [
    "a = \"Here's an important reason why we have more than one way to do text!\"\n",
    "print(a)"
   ]
  },
  {
   "cell_type": "markdown",
   "metadata": {},
   "source": [
    "# Sequence Variables\n",
    "There are 4 types of sequence variables: (tuples, lists, ranges, and strings). Tuples and lists can contain any type of object even other sequences.\n",
    "Tuples are assigned using ( ) <br />\n",
    "Lists use [ ] <br />\n",
    "Ranges come from the range() function. <br />\n",
    "Strings you already know!"
   ]
  },
  {
   "cell_type": "code",
   "execution_count": null,
   "metadata": {},
   "outputs": [],
   "source": [
    "mytuple = ('red',23,15.7,'29',5)\n",
    "mylist = [1,5,7,'monkey',(18,44),33]\n",
    "mystring = \"A whole list of characters!\"\n",
    "myrange = range(5)"
   ]
  },
  {
   "cell_type": "markdown",
   "metadata": {},
   "source": [
    "## Accessing Sequence Variables\n",
    "Any sequence variable can be accessed using the name[element] structure. Note that the first element is 0 and the last element is -1.\n",
    "If you use negative numbers you can count from the end of the sequence.\n",
    "You can use a colon to do sections. Note a colon is inclusive on the left and exclusive on the right. In all of these cases, one returns a new object."
   ]
  },
  {
   "cell_type": "code",
   "execution_count": null,
   "metadata": {},
   "outputs": [],
   "source": [
    "print(mytuple[2])\n",
    "print(mylist[-1])\n",
    "print(mystring[0:5])\n",
    "print(myrange[3])"
   ]
  },
  {
   "cell_type": "markdown",
   "metadata": {},
   "source": [
    "## More Fun With Colons\n",
    "Colons can also select out the beginning and end of a sequence, even if you don't know how big it is."
   ]
  },
  {
   "cell_type": "code",
   "execution_count": null,
   "metadata": {},
   "outputs": [],
   "source": [
    "mylist2 = [4,5,6,7,8,9,10,11,12,13,14,15,16,17,18,19,20]\n",
    "print(mylist2[:3])\n",
    "print(mylist2[5:])\n",
    "print(mylist2[:]) #The whole enchilada"
   ]
  },
  {
   "cell_type": "markdown",
   "metadata": {},
   "source": [
    "## Special List Methods\n",
    "There are a few special methods that only work on lists. Note that these **occur in-place**.\n",
    "- `.extend()`  Concatenate on another sequence\n",
    "- `.append()`  Concatenate on a scalar\n",
    "- `.sort()` Sorts the list\n",
    "- `.reverse()` Reverses the list order"
   ]
  },
  {
   "cell_type": "code",
   "execution_count": null,
   "metadata": {},
   "outputs": [],
   "source": [
    "mylist = [1,2,3,4]\n",
    "print(mylist)\n",
    "mylist.append(2)\n",
    "print(mylist)\n",
    "mylist.extend([7,6,5])\n",
    "print(mylist)\n",
    "mylist.sort()\n",
    "print(mylist)\n",
    "mylist.reverse()\n",
    "print(mylist)"
   ]
  },
  {
   "cell_type": "markdown",
   "metadata": {},
   "source": [
    "## How Assignment Works\n",
    "Variable names are assigned to a piece of memory where the object is stored.  When you assign one variable to another you point that varaible name at the same place in memory. We call this a reference. Variable names do not have a type, only objects have types."
   ]
  },
  {
   "cell_type": "code",
   "execution_count": null,
   "metadata": {},
   "outputs": [],
   "source": [
    "a = 2\n",
    "b = a #Now a and b point to the same piece of memory\n",
    "print(a)\n",
    "print(b)\n",
    "a = 3 #Now a points to a new piece of memory\n",
    "print(a)\n",
    "print(b)"
   ]
  },
  {
   "cell_type": "code",
   "execution_count": null,
   "metadata": {},
   "outputs": [],
   "source": [
    "alist = [1,2,3,4]\n",
    "blist = alist\n",
    "print(alist)\n",
    "print(blist)\n",
    "alist.extend([5,6])\n",
    "print(alist)\n",
    "print(blist)"
   ]
  },
  {
   "cell_type": "markdown",
   "metadata": {},
   "source": [
    "What happened to **blist**?\n",
    "## Mutability\n",
    "Mutability is the ability to change an object. Most of the objects we've discussed so for are immutable, they cannot be changed in memory. Lists (and dictionaries which we will discuss later) are mutable.\n",
    "\n",
    "When I assign `a=2` the name a is pointing to object 2. When I do `b=a` **b** now points to the same memory location. When I type `a=3` **a** no longer points at 2, it now points at the 3 object, **b** continues to point to the 2 object.\n",
    "\n",
    "The same thing is true for lists with one caveat, lists objects are mutable. You can change a list object without reassigning the name. Thus when **alist** and **blist** point to the same list object, and I extend the list object they both point to the same longer list object. **This can lead to big issues in your code!**\n"
   ]
  },
  {
   "cell_type": "markdown",
   "metadata": {},
   "source": [
    "## Changing List elements\n",
    "You can change elements of a list by referencing the element number in the assignment. You can also create an empty list using `list()`."
   ]
  },
  {
   "cell_type": "code",
   "execution_count": null,
   "metadata": {
    "scrolled": true
   },
   "outputs": [],
   "source": [
    "alist = list()\n",
    "alist.extend([1,2,3,4,5])\n",
    "print(alist)\n",
    "alist[2] = 6\n",
    "print(alist)\n",
    "alist[2:4] = [7,8]\n",
    "print(alist)"
   ]
  },
  {
   "cell_type": "markdown",
   "metadata": {},
   "source": [
    "## Why does anyone use tuples?\n",
    "Tuples process faster than lists. Also there are cases where you want to store sequence data that should not be messed with using list methods. You can always convert back and forth using:\n",
    "- `mylist = list(mytuple)`\n",
    "- `mytuple = tuple(mylist)`\n",
    "\n",
    "## Coverting Variable types\n",
    "Actually you can cast most basic types into another type (e.g. **float** to **string** or **int** to **float**) using the appropriate function:\n",
    "- `mystring = str(myfloat)`\n",
    "- `myfloat = float(myint)`"
   ]
  },
  {
   "cell_type": "code",
   "execution_count": null,
   "metadata": {},
   "outputs": [],
   "source": [
    "#Coverting a range into a list\n",
    "print(myrange)\n",
    "print(list(myrange))"
   ]
  },
  {
   "cell_type": "markdown",
   "metadata": {},
   "source": [
    "## Dictionaries\n",
    "Dictionaries are a type of object that associates key value pairs. This is very useful for easy storage of information. They act like mini-databases. You create dictionaries using **{ }**. You can access an element or set an element using **[ ]**. \n",
    "\n",
    "There are some special Dictionary methods:\n",
    "- `.keys()` List Keys\n",
    "- `.values()` List Values\n",
    "- `.items()` LIst Key Value pairs (as Tuples)\n",
    "\n",
    "The key value pairs are not stored in any particular order, so don't expect the order to remain the same. Remember like all things in Python, keys are **case sensitive**."
   ]
  },
  {
   "cell_type": "code",
   "execution_count": null,
   "metadata": {},
   "outputs": [],
   "source": [
    "billydict = {'username':'Billy the Kid', 'age': 22, 'mood':'ornery', 'height':68, 'Favorite Things':['Puppies','Kittens']}\n",
    "print(billydict['age'])\n",
    "print(billydict['Favorite Things'])\n",
    "print(type(billydict['Favorite Things']))\n",
    "print((billydict['Favorite Things'])[1]) #I only want is second favorite thing\n",
    "print(billydict['mood'])\n",
    "billydict['mood'] = 'happy' \n",
    "print(billydict['mood']) #Whew!!\n",
    "print(billydict.keys())\n",
    "billydict['height units'] = 'inches'\n",
    "print(billydict.keys())"
   ]
  },
  {
   "cell_type": "markdown",
   "metadata": {},
   "source": [
    "## Lab 1: Now it is your turn\n",
    "Please answer the following questions, then print them off and turn them in. You don't need to print the whole notebook. Only print the pages starting from here."
   ]
  },
  {
   "cell_type": "markdown",
   "metadata": {},
   "source": [
    "Name:"
   ]
  },
  {
   "cell_type": "markdown",
   "metadata": {},
   "source": [
    "**Q1: Why doesn't the following statement work?**"
   ]
  },
  {
   "cell_type": "code",
   "execution_count": null,
   "metadata": {},
   "outputs": [],
   "source": [
    "print(l) #Why Doesn't this work?"
   ]
  },
  {
   "cell_type": "markdown",
   "metadata": {},
   "source": [
    "**Q1 Answer:**"
   ]
  },
  {
   "cell_type": "markdown",
   "metadata": {},
   "source": [
    "**Q2: Fix the statement below, so that it works.**"
   ]
  },
  {
   "cell_type": "code",
   "execution_count": null,
   "metadata": {},
   "outputs": [],
   "source": [
    "b ='Why doesn't this one work!'\n",
    "print(b)"
   ]
  },
  {
   "cell_type": "markdown",
   "metadata": {},
   "source": [
    "**Q3: Answer the follwing questions:**\n",
    "1. Print the 2nd through the 4th element of **mylist**.\n",
    "2. Create a new list called **mylist3** that contains all but the first three elements of **mylist2**.\n",
    "3. Create a new string called **mystring2** that has only the last word from **mystring** in it."
   ]
  },
  {
   "cell_type": "code",
   "execution_count": null,
   "metadata": {},
   "outputs": [],
   "source": [
    "mylist = [1,5,7,'monkey',(18,44),33]\n",
    "mystring = \"A whole list of characters!\"\n",
    "mylist2 = [4,5,6,7,8,9,10,11,12,13,14,15,16,17,18,19,20]"
   ]
  },
  {
   "cell_type": "code",
   "execution_count": null,
   "metadata": {},
   "outputs": [],
   "source": []
  },
  {
   "cell_type": "markdown",
   "metadata": {},
   "source": [
    "**Q4: Why doesn't this work for tuples?**"
   ]
  },
  {
   "cell_type": "code",
   "execution_count": null,
   "metadata": {},
   "outputs": [],
   "source": [
    "atuple = (1,2,3,4,5)\n",
    "atuple[2] = 6\n",
    "print(atuple)"
   ]
  },
  {
   "cell_type": "markdown",
   "metadata": {},
   "source": [
    "**Q4 Answer:** "
   ]
  },
  {
   "cell_type": "markdown",
   "metadata": {},
   "source": [
    "**Q5: How could I make a copy of alist in blist, but create a new object in the process?** Prove that blist is a new object by appending the number 6, and showing that alist was not changed"
   ]
  },
  {
   "cell_type": "code",
   "execution_count": null,
   "metadata": {},
   "outputs": [],
   "source": [
    "alist = [1,2,3,4,5]"
   ]
  },
  {
   "cell_type": "code",
   "execution_count": null,
   "metadata": {},
   "outputs": [],
   "source": []
  },
  {
   "cell_type": "markdown",
   "metadata": {},
   "source": [
    "**Q6: Make the following changes to *billydict* without redefining the dictionary:**\n",
    "- Add Billy's weight: 140\n",
    "- Change his age to 17\n",
    "- Add 'Monkeys' to Billy's Favorite Things."
   ]
  },
  {
   "cell_type": "code",
   "execution_count": null,
   "metadata": {},
   "outputs": [],
   "source": [
    "billydict = {'username':'Billy the Kid', 'age': 22, 'mood':'ornery', 'height':68, 'Favorite Things':['Puppies','Kittens']}"
   ]
  },
  {
   "cell_type": "code",
   "execution_count": null,
   "metadata": {},
   "outputs": [],
   "source": []
  }
 ],
 "metadata": {
  "kernelspec": {
   "display_name": "Python 3 (ipykernel)",
   "language": "python",
   "name": "python3"
  },
  "language_info": {
   "codemirror_mode": {
    "name": "ipython",
    "version": 3
   },
   "file_extension": ".py",
   "mimetype": "text/x-python",
   "name": "python",
   "nbconvert_exporter": "python",
   "pygments_lexer": "ipython3",
   "version": "3.9.7"
  }
 },
 "nbformat": 4,
 "nbformat_minor": 4
}
