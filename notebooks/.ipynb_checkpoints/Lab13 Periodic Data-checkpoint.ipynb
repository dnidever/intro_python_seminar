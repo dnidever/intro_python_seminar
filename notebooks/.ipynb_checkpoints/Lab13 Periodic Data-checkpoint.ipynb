{
 "cells": [
  {
   "cell_type": "markdown",
   "metadata": {},
   "source": [
    "# Lab 14: Periodic Data\n",
    "In this lab we will learn how to work with Periodic data"
   ]
  },
  {
   "cell_type": "markdown",
   "metadata": {},
   "source": [
    "Name:"
   ]
  },
  {
   "cell_type": "code",
   "execution_count": null,
   "metadata": {},
   "outputs": [],
   "source": [
    "# initial imports\n",
    "import numpy as np\n",
    "import matplotlib.pyplot as plt\n",
    "from astropy.table import Table\n",
    "\n",
    "# run the %matplotlib magic command to enable inline plotting\n",
    "# in the current Notebook\n",
    "%matplotlib inline"
   ]
  },
  {
   "cell_type": "markdown",
   "metadata": {},
   "source": [
    "## Time Series data\n",
    "All periodic analysis begins with Time Series Data. This data usually has three columns date, observation, observation error. The date is usually some type of Julian Date, although you may have to covert to Julian Date type before you do your analysis. The observation can be any type of varying quantity (e.g. magnitude, radial velocity, etc.)."
   ]
  },
  {
   "cell_type": "code",
   "execution_count": null,
   "metadata": {},
   "outputs": [],
   "source": [
    "lightcurve = Table.read('data/SW_And_V.cur',format='ascii',names=('JD','Vmag','Vmag_err'))\n",
    "plt.plot(lightcurve['JD']-2400000.5,lightcurve['Vmag'],'o')\n",
    "plt.xlabel('MJD')\n",
    "plt.ylabel('V Magnitude')\n",
    "plt.gca().invert_yaxis() #Magnitudes are upside down"
   ]
  },
  {
   "cell_type": "markdown",
   "metadata": {},
   "source": [
    "## Phase and Cycle\n",
    "In order to work with periodic data we need to transform from date space to phase space. In order to do that, you need to know what the period of the data is. $$phase = \\frac{JD - Max_JD}{period} - cycle$$\n",
    "We often set the Max_JD (JD at the maximum of our periodic function) to 0, since we don't know it ahead of time. For AA Aql I know its period is 0.36145 days. The period needs to be in the same unit as our date, which in this case is also in days. The cycle is the number of full periods you have gone through since time = 0. It is just: $$cycle = floor(\\frac{JD - Max_JD}{period})$$\n",
    "In some cases, you may want to change the zero-point for your phases. For instance, if you want your Max_JD to be phase 0.5 instead of 0, you can add a 0.5 phase offset to your phase.\n"
   ]
  },
  {
   "cell_type": "code",
   "execution_count": null,
   "metadata": {},
   "outputs": [],
   "source": [
    "def date2phase(date,period,ph_offset=0,max_jd=0):\n",
    "    '''\n",
    "    This function coverts julian dates into phases. \n",
    "    \n",
    "    Arguments:\n",
    "        date: A numpy array of dates in a julian date format (e.g JD, MJD, BJD, HJD, etc.)\n",
    "        period: The period of the periodic signal in days.\n",
    "    Keywords:\n",
    "        ph_offset: Arbitrary phase offset between -1 and 1 (Default=0).\n",
    "        max_jd: The epoch of maximum or epoch of zero phase in the same format as date (Default=0).\n",
    "    returns:\n",
    "        phase: A numpy array of phases with the same dimensions as date.\n",
    "    '''\n",
    "    phase = (date-max_jd)/period\n",
    "    phase = (phase - np.floor(phase)) + ph_offset\n",
    "    \n",
    "    #Ensure that the phase stays between 0 and 1.\n",
    "    phase[phase > 1] = phase[phase>1] -1\n",
    "    phase[phase < 0] = phase[phase<0] +1    \n",
    "    return phase"
   ]
  },
  {
   "cell_type": "code",
   "execution_count": null,
   "metadata": {},
   "outputs": [],
   "source": [
    "lightcurve['Phase'] = date2phase(lightcurve['JD'],0.44226640)\n",
    "plt.errorbar(lightcurve['Phase'],lightcurve['Vmag'],lightcurve['Vmag_err'],marker='o',linestyle='None')\n",
    "plt.xlabel('Phase')\n",
    "plt.ylabel('V Magnitude')\n",
    "plt.gca().invert_yaxis() #Magnitudes are upside down"
   ]
  },
  {
   "cell_type": "markdown",
   "metadata": {},
   "source": [
    "## Period Finding\n",
    "In order to create a phased light curve, you need to know the period. There are many different algorithms available, but the most commonly used for variable stars is the Lomb-Scargle Periodogram. Lomb-Scargle basically fits a sinusoidal function to the data, and the it peaks, when that model fits the best."
   ]
  },
  {
   "cell_type": "markdown",
   "metadata": {},
   "source": [
    "For RR Lyrae Stars The minimum period is abou 0.1 days and the maximum period is 0.9 day. so let's set our limits there."
   ]
  },
  {
   "cell_type": "code",
   "execution_count": null,
   "metadata": {},
   "outputs": [],
   "source": [
    "from astropy.timeseries import LombScargle\n",
    "min_freq = 1.11\n",
    "max_freq = 3.3\n",
    "\n",
    "frequency,power = LombScargle(lightcurve['JD'], lightcurve['Vmag'], lightcurve['Vmag_err'],nterms=1).autopower(\n",
    "    minimum_frequency=min_freq, maximum_frequency=max_freq)\n",
    "\n",
    "plt.figure(figsize=(10,6))\n",
    "plt.subplot(211)\n",
    "plt.plot(frequency, power,linewidth=0.5)\n",
    "plt.xlabel(\"Frequency 1/day\")\n",
    "plt.ylabel(\"Lomb-Scargle Power\")\n",
    "plt.subplot(212)\n",
    "plt.plot(1/frequency, power,linewidth=0.5)\n",
    "plt.xlabel(\"Period (Days)\")\n",
    "plt.ylabel(\"Lomb-Scargle Power\")\n",
    "plt.show()"
   ]
  },
  {
   "cell_type": "code",
   "execution_count": null,
   "metadata": {},
   "outputs": [],
   "source": [
    "best_frequency = frequency[np.argmax(power)]\n",
    "best_period = 1/best_frequency\n",
    "print(\"The Best Period is: {} and Best Frequency: {}\".format(best_period,best_frequency))\n",
    "lightcurve['Phase'] = date2phase(lightcurve['JD'],best_period)\n",
    "plt.plot(lightcurve['Phase'],lightcurve['Vmag'],'o')\n",
    "plt.xlabel('Phase')\n",
    "plt.ylabel('V Magnitude')\n",
    "plt.gca().invert_yaxis() #Magnitudes are upside down"
   ]
  },
  {
   "cell_type": "markdown",
   "metadata": {},
   "source": [
    "## Fitting Splines\n",
    "Because temporal data has gaps it is often useful to fit a spline to the data. This lets you fill in all the holes in your data using interpolation as well as average multiple data points per position. Splines can have different orders. The higher the order the more flexible the spline. If you let a spline get too flexible, you start fitting errors, so keep the order as low as you can. A spline object takes a series of x values, and returns y values."
   ]
  },
  {
   "cell_type": "code",
   "execution_count": null,
   "metadata": {},
   "outputs": [],
   "source": [
    "import scipy.interpolate as interp\n",
    "def fitspline(phase,mag,error,order=3):\n",
    "    #X values need to be sorted.\n",
    "    sortind = np.argsort(phase)\n",
    "    #Extend array by six on 0.0 end and 1.1 end\n",
    "    extind = np.concatenate((sortind[-6:],sortind,sortind[0:6]))\n",
    "    phase = phase[extind]\n",
    "    phase[0:6] = phase[0:6] - 1.0\n",
    "    phase[-6:] = phase[-6:] + 1.0\n",
    "    #Do this with rest of arrays\n",
    "    mag = mag[extind]\n",
    "    error = error[extind]\n",
    "    #Interpolater doesn't do well with nan's\n",
    "    goodind = np.isfinite(mag)\n",
    "    phase = phase[goodind]\n",
    "    mag = mag[goodind]\n",
    "    error = error[goodind]\n",
    "    #Do the spline interpolation\n",
    "    phasemag_sp = interp.UnivariateSpline(phase,mag,k=order,w=1.0/error)\n",
    "    return phasemag_sp #This is a spline object"
   ]
  },
  {
   "cell_type": "code",
   "execution_count": null,
   "metadata": {},
   "outputs": [],
   "source": [
    "#Fit spline\n",
    "phasemag_sp = fitspline(lightcurve['Phase'],lightcurve['Vmag'],lightcurve['Vmag_err'],order=3)\n",
    "#Order my data by phase\n",
    "sortind = np.argsort(lightcurve['Phase'])\n",
    "lightcurve['Phase_ph'] = lightcurve['Phase'][sortind]\n",
    "lightcurve['Vmag_ph'] = lightcurve['Vmag'][sortind]\n",
    "lightcurve['Vmag_err_ph'] = lightcurve['Vmag_err'][sortind]\n",
    "plt.errorbar(lightcurve['Phase_ph'],lightcurve['Vmag_ph'],yerr=lightcurve['Vmag_err_ph'],fmt='.')\n",
    "plt.plot(lightcurve['Phase_ph'],phasemag_sp(lightcurve['Phase_ph']))\n",
    "plt.xlabel('Phase')\n",
    "plt.ylabel('V Magnitude')\n",
    "plt.gca().invert_yaxis() #Magnitudes are upside down"
   ]
  },
  {
   "cell_type": "code",
   "execution_count": null,
   "metadata": {},
   "outputs": [],
   "source": []
  },
  {
   "cell_type": "code",
   "execution_count": null,
   "metadata": {},
   "outputs": [],
   "source": []
  },
  {
   "cell_type": "code",
   "execution_count": null,
   "metadata": {},
   "outputs": [],
   "source": []
  }
 ],
 "metadata": {
  "kernelspec": {
   "display_name": "Python 3",
   "language": "python",
   "name": "python3"
  },
  "language_info": {
   "codemirror_mode": {
    "name": "ipython",
    "version": 3
   },
   "file_extension": ".py",
   "mimetype": "text/x-python",
   "name": "python",
   "nbconvert_exporter": "python",
   "pygments_lexer": "ipython3",
   "version": "3.7.10"
  }
 },
 "nbformat": 4,
 "nbformat_minor": 2
}
