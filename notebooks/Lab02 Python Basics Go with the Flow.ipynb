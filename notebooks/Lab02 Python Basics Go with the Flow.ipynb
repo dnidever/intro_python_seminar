{
 "cells": [
  {
   "cell_type": "markdown",
   "metadata": {},
   "source": [
    "# Lab 2: Flow Control\n",
    "Outside of doing simple math we need our modules to be able to make decisions and repeat operations (it is kind of what computers are really good at). There are several ways to control which lines of code get executed and how often. We will talk about each in turn."
   ]
  },
  {
   "cell_type": "markdown",
   "metadata": {},
   "source": [
    "## Functions\n",
    "Functions are a way of containing lines of code in discrete separable units. They are useful because if a block of code needs to be used more than once in a module or in another module, you don't have to write it multiple times. This makes developing and debugging code much easier as well because you only need change the code in one place instead of multiple times. Functions are like objects in that they can be used as arguments to other functions and be stored in sequences.\n",
    "\n",
    "There are two ways to define a function. This first method is the easiest and most common way. That is to use a `def` statement."
   ]
  },
  {
   "cell_type": "code",
   "execution_count": null,
   "metadata": {},
   "outputs": [],
   "source": [
    "def mypow (x,y): #def function_name (arg1, arg2, etc):\n",
    "    '''\n",
    "    Raises x to the power y.\n",
    "    \n",
    "    Arguments:\n",
    "        x: integer or float\n",
    "        y: integer or float\n",
    "    Returns:\n",
    "        x raised to the y power.\n",
    "    '''\n",
    "    result = x**y  #lines of function code are indented.\n",
    "    return result #A function usually ends with a return, but it doesn't have to.\n",
    "print(mypow(3,2))\n",
    "a = 4\n",
    "print(mypow(a,3))\n",
    "print(a)"
   ]
  },
  {
   "cell_type": "markdown",
   "metadata": {},
   "source": [
    "## Whitespace\n",
    "Whitespace is fundamental to the structure of Python. As you can see in the code block above, the way python indicates that a line of code goes with the function is by indenting that line. This is true for any kind of code block whether it be an if statement, a loop, or a function. In general people use 4 space to indent (most programming text editors use 4 spaces when you hit tab). For a longer discussion of good Python formatting ettiquete please see: https://www.python.org/dev/peps/pep-0008/."
   ]
  },
  {
   "cell_type": "markdown",
   "metadata": {},
   "source": [
    "## Global and Local Variables\n",
    "Variables are passed into functions by assignment. Note that there is not type definition for the arguments. The global variable is passed into the local variables in the defintion line. In the function **mypow()**, the global variable **a** gets assigned to the local variable **x**. The rules for assignment work the same way in a fuction as they do outside of a fuction as far as mutable and immutable objects are concerned. The benefit of local variables is that they are destroyed when the function ends. A function without a return statement returns the special value <span style=\"color:green\">None</span>."
   ]
  },
  {
   "cell_type": "code",
   "execution_count": null,
   "metadata": {},
   "outputs": [],
   "source": [
    "def listextend(mylist):\n",
    "    '''Extends a list by adding [1,2,3].'''\n",
    "    mylist.extend([1,2,3])\n",
    "    return mylist\n",
    "alist = [4,5,6]\n",
    "blist = listextend(alist)\n",
    "print(alist)\n",
    "print(blist)"
   ]
  },
  {
   "cell_type": "code",
   "execution_count": null,
   "metadata": {},
   "outputs": [],
   "source": [
    "print(mylist)"
   ]
  },
  {
   "cell_type": "code",
   "execution_count": null,
   "metadata": {},
   "outputs": [],
   "source": [
    "def listextend2(mylist):\n",
    "    '''Extends a list by adding [1,2,3] safetly.'''\n",
    "    mylist = mylist[:]\n",
    "    mylist.extend([1,2,3])\n",
    "    return mylist\n",
    "alist = [4,5,6]\n",
    "blist = listextend2(alist)\n",
    "print(alist)\n",
    "print(blist)"
   ]
  },
  {
   "cell_type": "markdown",
   "metadata": {},
   "source": [
    "## Docstrings\n",
    "The start of both **mypow** and **listextend** begin with a string called a docstring. Docstrings tells people what the function does, what its arguments are, and what it returns. There is no one way to do a docstring. Pick a format that works for you. For very short functions, a one-line docstring is probably enough. For more complicated functions, and more complete docstring is useful. For multiline docstrings, the summary should be separated by a blank line from the rest of the docstring because some programs search the summaries."
   ]
  },
  {
   "cell_type": "code",
   "execution_count": null,
   "metadata": {},
   "outputs": [],
   "source": [
    "print(mypow.__doc__)"
   ]
  },
  {
   "cell_type": "code",
   "execution_count": null,
   "metadata": {},
   "outputs": [],
   "source": [
    "help(mypow)"
   ]
  },
  {
   "cell_type": "code",
   "execution_count": null,
   "metadata": {},
   "outputs": [],
   "source": [
    "? mypow"
   ]
  },
  {
   "cell_type": "markdown",
   "metadata": {},
   "source": [
    "## Function Arguments\n",
    "Functions arguments are generally matched by position. However, one can assign by naming the appropriate local variable.\n",
    "You can also write functions with predefined keywords. These keywords do not have to be passed to the function because they already have default values. Once you call a keyword, you cannot go back to positional arguments."
   ]
  },
  {
   "cell_type": "code",
   "execution_count": null,
   "metadata": {},
   "outputs": [],
   "source": [
    "def quad(x,a,b=0,c=0):\n",
    "    '''\n",
    "    This function returns the quadratic a*x**2 + bx + c \n",
    "    \n",
    "    Arguments:\n",
    "        x: An x value\n",
    "        a: First Quadratic coefficient\n",
    "    Keywords:\n",
    "        b: Second Quadratic coeffient (Default=0)\n",
    "        c: Third Quadratic coeffient (Default=0)\n",
    "    returns:\n",
    "        y: y-value of the line\n",
    "    '''\n",
    "    return a*x**2+b*x+c\n",
    "print(quad(2,3))\n",
    "print(quad(2,3,b=2,c=1))\n",
    "print(quad(2,3,2,1))\n",
    "print(quad(3,2))\n",
    "print(quad(a=3,x=2,c=1,b=2))"
   ]
  },
  {
   "cell_type": "markdown",
   "metadata": {},
   "source": [
    "## Lamda Functions\n",
    "You may encounter the reserved word **lambda**. This is another way to define functions, but we won't worry about them for the moment."
   ]
  },
  {
   "cell_type": "markdown",
   "metadata": {},
   "source": [
    "## String formating\n",
    "If you want to print out the value an object in a human readable way, you can use string formating. The way string formating looks is:\n",
    "```\n",
    "\"This string as variable1 {} and variable2 {}\".format(var1, var2)\n",
    "```\n",
    "You can control how the variables are displayed by using format codes. Some basic format codes are:\n",
    "\n",
    "| code | Description | Code | Description |\n",
    "| --- | --- | --- | --- |\n",
    "| d | integer | f | fixed decimal point float |\n",
    "|s or empty | string | e | Scientific notation |\n",
    "| g | choose either fixed or scientific as appropriate | % | Multiply by 100 and use percent sign |\n",
    "\n",
    "One can control the number of characters used by a string and numbers by preceeding the format code with a number. One can control the number of decimal points to round to with `.number`. If a string or number is smaller than the allotted number of characters you can control the alignment with <,>,^.\n",
    "\n",
    "`{:5s} {:10.2f}`\n",
    "Where 5 means use 5 characters and 10.2 means use 10 characters with a 2 decimal places. This works slightly differently for f and for g.\n",
    "\n",
    "For more information on format codes read here: https://docs.python.org/2/library/string.html."
   ]
  },
  {
   "cell_type": "code",
   "execution_count": null,
   "metadata": {},
   "outputs": [],
   "source": [
    "var1 = 3.14159\n",
    "var2 = \"Kitty Cat\"\n",
    "\n",
    "print(\"My {} loves pie {}\".format(var2,var1))\n",
    "print(\"My {1} loves pie {0}\".format(var2,var1))\n",
    "print(\"My {:<20s} loves pie {:5.3f}\".format(var2,var1))\n",
    "print(\"My {:>20s} loves pie {:e}\".format(var2,var1))\n",
    "print(\"My {:^20s} loves pie {:.2g}\".format(var2,var1))\n",
    "print(\"My {1:^10.3g} loves pie {0:^20s}\".format(var2,var1))\n",
    "print(\"My {1:010.3g} loves pie {0:>20s}\".format(var2,var1))"
   ]
  },
  {
   "cell_type": "markdown",
   "metadata": {},
   "source": [
    "## If Statements\n",
    "If Statements are the very heart of programming. This is how decisions get made in a program. The basic format is as follows:\n",
    "```\n",
    "if <condition1>:\n",
    "    statements_1\n",
    "elif <condition2>:\n",
    "    statements_2\n",
    "else:\n",
    "    statements_3\n",
    "```\n",
    "If **condition1** is <span style='color:green'>True</span> **statements_1** gets executed and we skip the rest of the statements. If **condition1** is <span style='color:green'>False</span> then we skip **statements1** and test **condition2**. If it is <span style='color:green'>True</span> then we execute **statements2**. If it is <span style='color:green'>False</span> then we executes **statements3**. An if block can have only 1 if statment, it can have 0 to many elif statements, and 0 or 1 else statement."
   ]
  },
  {
   "cell_type": "markdown",
   "metadata": {},
   "source": [
    "## Conditions\n",
    "There are several condition or Boolean staments you can make. By using **and** or **or** you can test several conditions at the same time.\n",
    "\n",
    "| Condition | Description | Condition | Description |\n",
    "| --- | --- | --- | --- |\n",
    "|True| Always True | False | Always False |\n",
    "| a > b | a greater than b | a >= b | a greater than or equal to b | \n",
    "| a < b | a less than b |a <= b | less than or equal to b | \n",
    "| a == b | a is equal to b | a **is** b | a is equal to b (rarely used)|\n",
    "| a != b | a is not equal to b | a **is not** b | a is not equal to b (rarely used)|\n",
    "| a > b **or** c < d | a is greater than b or c is less than d | a in list | Is the value of a in the list |\n",
    "| a > b **and** c < d | a is greater than b and c is less than d | a not in list | Is the value of a not in the list|\n",
    "| not a | Opposite of a | () | can be used to add complexity|"
   ]
  },
  {
   "cell_type": "code",
   "execution_count": null,
   "metadata": {},
   "outputs": [],
   "source": [
    "z = 3\n",
    "if z == 4:\n",
    "    #Everything in here is part of the if statement\n",
    "    print(\"This totally worked!\")\n",
    "    z = z + 1\n",
    "    print(z)\n",
    "else:\n",
    "    print(z)\n",
    "print(\"I always work!\")"
   ]
  },
  {
   "cell_type": "markdown",
   "metadata": {},
   "source": [
    "## While Loops\n",
    "While loops allow you to do a block of statements until a condition is met. This can be very useful if you need to decide on the fly how often to do something. The basic format is:\n",
    "```\n",
    "while <condition>:\n",
    "    statements\n",
    "```"
   ]
  },
  {
   "cell_type": "code",
   "execution_count": null,
   "metadata": {},
   "outputs": [],
   "source": [
    "i = 0\n",
    "while i <= 5:\n",
    "    print(i)\n",
    "    i = i + 1"
   ]
  },
  {
   "cell_type": "markdown",
   "metadata": {},
   "source": [
    "## Special reserved words for all types of loops and code blocks\n",
    "These reserved words allow you to control the flow of a loop outside of the initial condition.\n",
    "\n",
    "| Reserved Word | Use |\n",
    "| --- | --- |\n",
    "| break | Leave the loop immediately |\n",
    "| continue | Jump to the next iteration of the loop |\n",
    "| pass | Do nothing |"
   ]
  },
  {
   "cell_type": "code",
   "execution_count": null,
   "metadata": {},
   "outputs": [],
   "source": [
    "i = 0\n",
    "while i <= 5:\n",
    "    \n",
    "    if i == 3:\n",
    "        i = i + 1\n",
    "        continue\n",
    "    print(i)\n",
    "    i = i + 1"
   ]
  },
  {
   "cell_type": "markdown",
   "metadata": {},
   "source": [
    "## Infinite Loops\n",
    "Beware of infinite loops. If the condition in your while loop can never be false, the loop will go on forever and you will have to `ctrl-c` the program. What would happen if you deleted the i = i + 1 from above the continue in the while loop above? Try it if you dare. To stop an infinite loop go to Kernel->Interupt. You can tell that you are in an infinite loop if you see <span style='color:blue;font-family:Courier'><b>In [*]</b></span>."
   ]
  },
  {
   "cell_type": "markdown",
   "metadata": {},
   "source": [
    "## For Loops\n",
    "For loops are one of the most useful flow control loops in Python. They allow you to execute lines of code a specific number of times. They also allow you to process a list or tuple or dictionary one element or keyword at a time. The general format of a for loop is:\n",
    "```\n",
    "for <target> in <object>:\n",
    "    <statements>\n",
    "```"
   ]
  },
  {
   "cell_type": "code",
   "execution_count": null,
   "metadata": {},
   "outputs": [],
   "source": [
    "mytuple = (\"cat\",\"dog\",27.3, (45,\"house\"),\"monkey\")\n",
    "for element in mytuple:\n",
    "    print(element)"
   ]
  },
  {
   "cell_type": "markdown",
   "metadata": {},
   "source": [
    "For some simple loops people use list comprehension. It is a way of generating a new list with constraints from a previous list. Here is the same code twice, written in the normal way and the list comprehension way."
   ]
  },
  {
   "cell_type": "code",
   "execution_count": null,
   "metadata": {},
   "outputs": [],
   "source": [
    "numbers = [1,2,3,4,5,6,7,8,9,10]\n",
    "evennum1 = list()\n",
    "evennum2 = list()\n",
    "#The standard way\n",
    "for num in numbers:\n",
    "    if num % 2 is 0:\n",
    "        evennum1.append(num)\n",
    "print(evennum1)\n",
    "#The list comprehension way\n",
    "evennum2 = [num for num in numbers if num % 2 is 0]\n",
    "print(evennum2)"
   ]
  },
  {
   "cell_type": "markdown",
   "metadata": {},
   "source": [
    "## range() and len()\n",
    "There are two functions that are very useful for processing lists of unknown size through a for loop. `range()` generates a range object, which functions like a list of numbers. It can take 1, 2, or 3 arguements. `len()` tells you the number of elements in a list, tuple, range, or dictionary"
   ]
  },
  {
   "cell_type": "code",
   "execution_count": null,
   "metadata": {},
   "outputs": [],
   "source": [
    "print(range(5))\n",
    "print(list(range(5))) #convert to a list so that we can see the values\n",
    "print(list(range(3,7)))\n",
    "print(list(range(1,10,2)))\n",
    "print(len(numbers))"
   ]
  },
  {
   "cell_type": "markdown",
   "metadata": {},
   "source": [
    "## Combining range() and len() with for\n",
    "You can use `range()` and `len()` to work your way through a sequence. **This is by far the most used type of loop in my code.** Note that the loop below access the list `letters` one element at a time."
   ]
  },
  {
   "cell_type": "code",
   "execution_count": null,
   "metadata": {},
   "outputs": [],
   "source": [
    "letters = ['a','b','c','d','e','f','g','h','i','j','k']\n",
    "for i in range(len(letters)):\n",
    "    print(\"The letter {} is at index {}\".format(letters[i],i))"
   ]
  },
  {
   "cell_type": "markdown",
   "metadata": {},
   "source": [
    "## Lab 2: Now it is your turn\n",
    "Please answer the following questions, then print them off and turn them in. You don't need to print the whole notebook. Only print the pages starting from here."
   ]
  },
  {
   "cell_type": "markdown",
   "metadata": {},
   "source": [
    "Name: "
   ]
  },
  {
   "cell_type": "markdown",
   "metadata": {},
   "source": [
    "**Q1: Fix the function swap23(), so that alist is not altered when passed to the function.**"
   ]
  },
  {
   "cell_type": "code",
   "execution_count": null,
   "metadata": {},
   "outputs": [],
   "source": [
    "def swap23(mylist):\n",
    "    '''Swaps element 2 and 3 of a list'''\n",
    "    if len(mylist) < 4:\n",
    "        print(\"Use a bigger list\")\n",
    "        return None\n",
    "    else:\n",
    "        elem3 = mylist[3]\n",
    "        mylist[3] = mylist[2]\n",
    "        mylist[2] = elem3    \n",
    "        return mylist\n",
    "    \n",
    "alist = [1,2,3,4]\n",
    "blist = swap23(alist)\n",
    "print(alist)\n",
    "print(blist)"
   ]
  },
  {
   "cell_type": "markdown",
   "metadata": {},
   "source": [
    "**Q2: Use the** `quad()` **fuction to figure out the value of $y$ when $x=5$ for the quadratic $y = 7-23x+13x^2$?**"
   ]
  },
  {
   "cell_type": "code",
   "execution_count": null,
   "metadata": {},
   "outputs": [],
   "source": []
  },
  {
   "cell_type": "markdown",
   "metadata": {},
   "source": [
    "**Q3: Write your own format strings that takes the number 1025.2456778**\n",
    "- **Rounds it to two decimal places**\n",
    "- **Gives it in scientific notation with 4 decimal places.**"
   ]
  },
  {
   "cell_type": "code",
   "execution_count": null,
   "metadata": {},
   "outputs": [],
   "source": []
  },
  {
   "cell_type": "markdown",
   "metadata": {},
   "source": [
    "**Q4: Write a function called min() that takes two arguments and returns the minimum one. If you want to go one step further, Add a keyword *reverse=False* to cause the function to return the max value instead of the min value when it is set to *True*. What should happen if both values are the same? Please include a docstring.**"
   ]
  },
  {
   "cell_type": "code",
   "execution_count": null,
   "metadata": {},
   "outputs": [],
   "source": []
  },
  {
   "cell_type": "markdown",
   "metadata": {},
   "source": [
    "**Q5: Write a function that takes an integer and returns the factorial of that integer. Check the arguments such that if someone gives you an integer less than 0 it returns a -99, or if they give you a zero it returns 1. Be sure to include a docstring for each of your functions.**"
   ]
  },
  {
   "cell_type": "code",
   "execution_count": null,
   "metadata": {},
   "outputs": [],
   "source": []
  },
  {
   "cell_type": "markdown",
   "metadata": {},
   "source": [
    "**Q6: Create a function that takes two lists and compares them element by element and creates a new list that gives the maximum value for each element.**"
   ]
  },
  {
   "cell_type": "code",
   "execution_count": null,
   "metadata": {},
   "outputs": [],
   "source": []
  }
 ],
 "metadata": {
  "kernelspec": {
   "display_name": "Python 3 (ipykernel)",
   "language": "python",
   "name": "python3"
  },
  "language_info": {
   "codemirror_mode": {
    "name": "ipython",
    "version": 3
   },
   "file_extension": ".py",
   "mimetype": "text/x-python",
   "name": "python",
   "nbconvert_exporter": "python",
   "pygments_lexer": "ipython3",
   "version": "3.9.7"
  }
 },
 "nbformat": 4,
 "nbformat_minor": 4
}
