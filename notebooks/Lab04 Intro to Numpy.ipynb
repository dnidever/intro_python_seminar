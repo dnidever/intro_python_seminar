{
 "cells": [
  {
   "cell_type": "markdown",
   "metadata": {},
   "source": [
    "# Lab 4: Intro to Numpy\n",
    "The Numpy module is fundamental to almost all analysis tools that use Python. The power of Numpy is that it allows you to do math on whole arrays, and it does this math in C. This allows the operations to be very fast which is essential when dealing with large amounts of data. For more information see:\n",
    "* http://www.numpy.org\n",
    "\n",
    "* https://docs.scipy.org/doc/numpy-dev/user/quickstart.html"
   ]
  },
  {
   "cell_type": "markdown",
   "metadata": {},
   "source": [
    "## Python indices are \"zero-based\"\n",
    "\n",
    "* The center of the origin pixel is index 0\n",
    "* e.g. for a 2D array the origin pixel (lower-left) is [0, 0]\n",
    "\n",
    "### Comparisons to other languages/applications:\n",
    "\n",
    "* 0-based:  python, C, IDL\n",
    "* 1-based:  fortran, iraf, FITS WCS, SExtractor, ds9"
   ]
  },
  {
   "cell_type": "markdown",
   "metadata": {},
   "source": [
    "## Python arrays are stored in \"row-major\" order\n",
    "\n",
    "* for a 2D array, if x is the column index and y is the row index, then\n",
    "the array is indexed as **[y, x]**\n",
    "  * e.g. **data[y, x]**\n",
    "  * *x (column) is the fast array index and y (row) is the slow array index*\n",
    "* for a 3D array, index as e.g. **data[z, y, x]**"
   ]
  },
  {
   "cell_type": "markdown",
   "metadata": {},
   "source": [
    "## Numpy multidimensional array (ndarray):\n",
    "* an array of homogeneous elements (usually numbers), all of the same type\n",
    "* a memory-efficient container that provides fast numerical operations\n",
    "* designed for scientific computation (array-oriented computing)\n",
    "\n",
    "First you need to import the Numpy Module"
   ]
  },
  {
   "cell_type": "code",
   "execution_count": 1,
   "metadata": {},
   "outputs": [],
   "source": [
    "import numpy as np    # standard convention"
   ]
  },
  {
   "cell_type": "markdown",
   "metadata": {},
   "source": [
    "## How to create a Numpy Array\n",
    "You basically create a list and generate the numpy array from there."
   ]
  },
  {
   "cell_type": "code",
   "execution_count": 2,
   "metadata": {},
   "outputs": [
    {
     "name": "stdout",
     "output_type": "stream",
     "text": [
      "[0 1 2 3]\n",
      "<class 'numpy.ndarray'>\n"
     ]
    }
   ],
   "source": [
    "# define a 1D array of 4 elements\n",
    "a = np.array([0, 1, 2, 3]) #Convert a list to a numpy array\n",
    "print(a)\n",
    "print(type(a))"
   ]
  },
  {
   "cell_type": "code",
   "execution_count": 3,
   "metadata": {},
   "outputs": [
    {
     "name": "stdout",
     "output_type": "stream",
     "text": [
      "[[0 1 2]\n",
      " [3 4 5]\n",
      " [6 7 8]]\n"
     ]
    }
   ],
   "source": [
    "# define a 2D (3x3) array\n",
    "b = np.array([[0, 1, 2], [3, 4, 5], [6, 7, 8]])\n",
    "print(b)"
   ]
  },
  {
   "cell_type": "markdown",
   "metadata": {},
   "source": [
    "## Arange\n",
    "Like `range()` `np.arrange()` produces a sequence of numbers. Unlike `range()` this is not a range object but rather a numpy array."
   ]
  },
  {
   "cell_type": "code",
   "execution_count": 4,
   "metadata": {},
   "outputs": [
    {
     "name": "stdout",
     "output_type": "stream",
     "text": [
      "[0 1 2 3 4 5 6 7 8 9]\n",
      "[2.  2.5 3.  3.5 4.  4.5]\n"
     ]
    }
   ],
   "source": [
    "c = np.arange(10)\n",
    "d = np.arange(2, 5, 0.5)  # start, stop (exclusive), step\n",
    "print(c)\n",
    "print(d)"
   ]
  },
  {
   "cell_type": "markdown",
   "metadata": {},
   "source": [
    "## Zeros\n",
    "np.zeros let's you create an empty numpy array of any size or dimension."
   ]
  },
  {
   "cell_type": "code",
   "execution_count": 5,
   "metadata": {},
   "outputs": [
    {
     "name": "stdout",
     "output_type": "stream",
     "text": [
      "[0. 0. 0.]\n"
     ]
    }
   ],
   "source": [
    "e = np.zeros(3)\n",
    "print(e)"
   ]
  },
  {
   "cell_type": "code",
   "execution_count": 6,
   "metadata": {},
   "outputs": [
    {
     "name": "stdout",
     "output_type": "stream",
     "text": [
      "[[0. 0. 0.]\n",
      " [0. 0. 0.]\n",
      " [0. 0. 0.]]\n"
     ]
    }
   ],
   "source": [
    "f = np.zeros((3, 3))\n",
    "print(f)"
   ]
  },
  {
   "cell_type": "markdown",
   "metadata": {},
   "source": [
    "## Array attributes\n",
    "Numpy arrays have a number of attributes that you can access to determine what kind of array it is."
   ]
  },
  {
   "cell_type": "code",
   "execution_count": 7,
   "metadata": {},
   "outputs": [
    {
     "name": "stdout",
     "output_type": "stream",
     "text": [
      "2\n",
      "6\n",
      "(2, 3)\n",
      "int64\n"
     ]
    }
   ],
   "source": [
    "a = np.array([[0, 1, 2], [3, 4, 5]])\n",
    "print(a.ndim) #How many dimensions\n",
    "print(a.size) #How many elements\n",
    "print(a.shape) #How are those elements arranged\n",
    "print(a.dtype) #What is the object type"
   ]
  },
  {
   "cell_type": "markdown",
   "metadata": {},
   "source": [
    "## Basic Numpy Operations\n",
    "The most powerful thing about Numpy arrays is that opreations work *elementwise* and in C. So you can use a numpy array in an equation."
   ]
  },
  {
   "cell_type": "code",
   "execution_count": 8,
   "metadata": {},
   "outputs": [
    {
     "name": "stdout",
     "output_type": "stream",
     "text": [
      "a Matrix:\n",
      "[[0 1 2]\n",
      " [3 4 5]\n",
      " [6 7 8]]\n",
      "Addition:\n",
      "[[10 11 12]\n",
      " [13 14 15]\n",
      " [16 17 18]]\n",
      "Power:\n",
      "[[  0   1   8]\n",
      " [ 27  64 125]\n",
      " [216 343 512]]\n",
      "Equations:\n",
      "[[ 0  3  6]\n",
      " [ 9 12 15]\n",
      " [18 21 24]]\n",
      "Elementwise multiplication, not matrix multiplication\n",
      "[[ 0  1  4]\n",
      " [ 9 16 25]\n",
      " [36 49 64]]\n",
      "Matrix multiplication:\n",
      "[[ 15  18  21]\n",
      " [ 42  54  66]\n",
      " [ 69  90 111]]\n",
      "To Save memory you can do operations in place:\n",
      "[[ 0  3  6]\n",
      " [ 9 12 15]\n",
      " [18 21 24]]\n"
     ]
    }
   ],
   "source": [
    "print('a Matrix:')\n",
    "a = np.array([[0, 1, 2], [3, 4, 5], [6, 7, 8]])\n",
    "print(a)\n",
    "print('Addition:')\n",
    "print(a + 10)\n",
    "print('Power:')\n",
    "print(a ** 3)\n",
    "print('Equations:')\n",
    "print(a + (2 * a))\n",
    "print('Elementwise multiplication, not matrix multiplication')\n",
    "print(a * a )\n",
    "print('Matrix multiplication:')\n",
    "print(np.dot(a, a))\n",
    "# a.dot(a)   # shorthand for above\n",
    "print('To Save memory you can do operations in place:')\n",
    "a *= 3\n",
    "print(a)"
   ]
  },
  {
   "cell_type": "markdown",
   "metadata": {},
   "source": [
    "## Statistical Functions\n",
    "Numpy has many functions that can take a numpy array and return a statistical value. Things like sum, average, median, and standard deviation are built-in. You can often call these functions in two ways."
   ]
  },
  {
   "cell_type": "code",
   "execution_count": 9,
   "metadata": {},
   "outputs": [
    {
     "name": "stdout",
     "output_type": "stream",
     "text": [
      "108\n",
      "108\n",
      "12.0\n",
      "12.0\n",
      "7.745966692414834\n",
      "7.745966692414834\n"
     ]
    }
   ],
   "source": [
    "print(np.sum(a))\n",
    "print(a.sum())\n",
    "print(np.mean(a))\n",
    "print(a.mean())\n",
    "print(np.std(a))\n",
    "print(a.std())"
   ]
  },
  {
   "cell_type": "markdown",
   "metadata": {},
   "source": [
    "## Mathematical Functions\n",
    "Whereas most of the function in the math module work only on single numbers. The same function exist in numpy, so that you can work on them all at the same time."
   ]
  },
  {
   "cell_type": "code",
   "execution_count": 10,
   "metadata": {},
   "outputs": [
    {
     "name": "stdout",
     "output_type": "stream",
     "text": [
      "[0 1 2 3 4]\n",
      "[ 1.          2.71828183  7.3890561  20.08553692 54.59815003]\n",
      "[0.         1.         1.41421356 1.73205081 2.        ]\n",
      "[ 0.          0.84147098  0.90929743  0.14112001 -0.7568025 ]\n"
     ]
    }
   ],
   "source": [
    "x = np.arange(5)\n",
    "print(x)\n",
    "print(np.exp(x))\n",
    "print(np.sqrt(x))\n",
    "print(np.sin(x))"
   ]
  },
  {
   "cell_type": "markdown",
   "metadata": {},
   "source": [
    "## Indexing and Slicing\n",
    "Numpy has a very powerful indexing and slicing abilities. It has the same indexing abiities as a Python sequence, but it also allows you to do boolean expressions to create new numpy arrays from old ones.\n",
    "\n",
    "Here are some of the standard indexing:"
   ]
  },
  {
   "cell_type": "code",
   "execution_count": 11,
   "metadata": {},
   "outputs": [
    {
     "name": "stdout",
     "output_type": "stream",
     "text": [
      "[  0   1   8  27  64 125 216 343 512 729]\n",
      "27\n",
      "729\n",
      "[ 27  64 125]\n"
     ]
    }
   ],
   "source": [
    "x = np.arange(10)**3\n",
    "print(x)\n",
    "print(x[3])\n",
    "print(x[-1])\n",
    "print(x[3:6])"
   ]
  },
  {
   "cell_type": "markdown",
   "metadata": {},
   "source": [
    "## Matrix Indexing\n",
    "Remember that matrices are row-major."
   ]
  },
  {
   "cell_type": "code",
   "execution_count": 12,
   "metadata": {},
   "outputs": [
    {
     "name": "stdout",
     "output_type": "stream",
     "text": [
      "[[0 1 2]\n",
      " [3 4 5]\n",
      " [6 7 8]]\n",
      "5\n"
     ]
    }
   ],
   "source": [
    "a = np.array([[0, 1, 2], [3, 4, 5], [6, 7, 8]])\n",
    "print(a)\n",
    "print(a[1,2])"
   ]
  },
  {
   "cell_type": "markdown",
   "metadata": {},
   "source": [
    "## Here is the Fancy Indexing\n",
    "You can give numpy arrays indices in any order and they don't have to be continuous. You can also use boolean expressions to make mask arrays that effectively let you creat new numpy arrays from conditions placed on old ones."
   ]
  },
  {
   "cell_type": "code",
   "execution_count": 13,
   "metadata": {},
   "outputs": [
    {
     "name": "stdout",
     "output_type": "stream",
     "text": [
      "[125   8   1]\n",
      "[125   8   1]\n"
     ]
    }
   ],
   "source": [
    "idx = [5, 2, 1]\n",
    "print(x[idx])\n",
    "#A shorthand way\n",
    "print(x[[5,2,1]])"
   ]
  },
  {
   "cell_type": "code",
   "execution_count": 14,
   "metadata": {},
   "outputs": [
    {
     "name": "stdout",
     "output_type": "stream",
     "text": [
      "[False False False False False False False  True  True  True]\n",
      "[343 512 729]\n",
      "[343 512 729]\n"
     ]
    }
   ],
   "source": [
    "maskidx = (x > 300)\n",
    "print(maskidx)\n",
    "print(x[maskidx])\n",
    "#A shorthand way to do this\n",
    "print(x[(x>300)])"
   ]
  },
  {
   "cell_type": "code",
   "execution_count": 15,
   "metadata": {},
   "outputs": [
    {
     "name": "stdout",
     "output_type": "stream",
     "text": [
      "[ 64 125]\n",
      "[  0   1   8  27 216 343 512 729]\n"
     ]
    }
   ],
   "source": [
    "maskidx = ((x > 50) & (x < 200)) #Logical AND\n",
    "print(x[maskidx])\n",
    "maskidx = ((x < 50) | (x > 200)) #Logical OR\n",
    "print(x[maskidx])"
   ]
  },
  {
   "cell_type": "markdown",
   "metadata": {},
   "source": [
    "## Lab 4: Now it is your turn\n",
    "Please answer the following questions, then print them off and turn them in. You don't need to print the whole notebook. Only print the pages starting from here."
   ]
  },
  {
   "cell_type": "markdown",
   "metadata": {},
   "source": [
    "Name: "
   ]
  },
  {
   "cell_type": "markdown",
   "metadata": {},
   "source": [
    "**Q1: Create a string array of letters in alphabetical order with shape (3,4). Print the array, what shape it is, what type it is, what size it is, and how many dimensions it has.**"
   ]
  },
  {
   "cell_type": "code",
   "execution_count": null,
   "metadata": {},
   "outputs": [],
   "source": []
  },
  {
   "cell_type": "markdown",
   "metadata": {},
   "source": [
    "**Q2: How would I index the element of matrix `a` that contains the number 7?**"
   ]
  },
  {
   "cell_type": "code",
   "execution_count": null,
   "metadata": {},
   "outputs": [],
   "source": [
    "a = np.array([[0, 1, 2], [3, 4, 5], [6, 7, 8]])"
   ]
  },
  {
   "cell_type": "markdown",
   "metadata": {},
   "source": [
    "**Q3: Use numpy to find the the y values for `x = [56, 62, 84, 16, 57, 73, 84, 27, 93, 42, 33, 17, 30, 72, 57, 53, 41, 13, 36, 79]` given a line of slope of 3 and y-intercept of -2.**"
   ]
  },
  {
   "cell_type": "code",
   "execution_count": null,
   "metadata": {},
   "outputs": [],
   "source": []
  },
  {
   "cell_type": "markdown",
   "metadata": {},
   "source": [
    "**Q4: What is the average of the x array? What is the median of x? What is the standard deviation of x?**"
   ]
  },
  {
   "cell_type": "code",
   "execution_count": null,
   "metadata": {},
   "outputs": [],
   "source": []
  },
  {
   "cell_type": "markdown",
   "metadata": {},
   "source": [
    "**Q5: What is the average and standard deviation of only those elements greater than 20, but less than 50?**"
   ]
  },
  {
   "cell_type": "code",
   "execution_count": null,
   "metadata": {},
   "outputs": [],
   "source": []
  }
 ],
 "metadata": {
  "kernelspec": {
   "display_name": "Python 3",
   "language": "python",
   "name": "python3"
  },
  "language_info": {
   "codemirror_mode": {
    "name": "ipython",
    "version": 3
   },
   "file_extension": ".py",
   "mimetype": "text/x-python",
   "name": "python",
   "nbconvert_exporter": "python",
   "pygments_lexer": "ipython3",
   "version": "3.7.10"
  }
 },
 "nbformat": 4,
 "nbformat_minor": 1
}
