{
 "cells": [
  {
   "cell_type": "markdown",
   "metadata": {},
   "source": [
    "# Lab 3: Python Basics Info to and from the Outside\n",
    "We now know a lot about running our own program, but now we need to be able to communicate with the outside world. This includes reading and writing files, and importing code from outside sources."
   ]
  },
  {
   "cell_type": "markdown",
   "metadata": {},
   "source": [
    "## Modules\n",
    "There is a lot of python code that already exists. Python is an object oriented langauge with discrete namespaces. Modules are a way of importing functions, methods, and objects from other developers. There are two main types of Modules, but they work the same way. The first are built-in modules, these modules are available on any normal Python installation. The second type is third-party modules. These must be downloaded and installed, although many of them are so commonly used that they are very likely to be installed already."
   ]
  },
  {
   "cell_type": "markdown",
   "metadata": {},
   "source": [
    "## Your first built-in module\n",
    "Let's start with something that we know really well, math functions. There is a built-in module to contain math functions. It is called **math**. There are several ways to import all or just part of a module. We will discuss the different methods below."
   ]
  },
  {
   "cell_type": "markdown",
   "metadata": {},
   "source": [
    "## Import the whole module\n",
    "The simpliest was to import a module is to import the whole thing."
   ]
  },
  {
   "cell_type": "code",
   "execution_count": null,
   "metadata": {},
   "outputs": [],
   "source": [
    "import math"
   ]
  },
  {
   "cell_type": "markdown",
   "metadata": {},
   "source": [
    "## Module Help\n",
    "We can learn about the functions available in a given module by going online or by using the help function."
   ]
  },
  {
   "cell_type": "code",
   "execution_count": null,
   "metadata": {},
   "outputs": [],
   "source": [
    "help(math)"
   ]
  },
  {
   "cell_type": "markdown",
   "metadata": {},
   "source": [
    "You can also get help on individual functions"
   ]
  },
  {
   "cell_type": "code",
   "execution_count": null,
   "metadata": {},
   "outputs": [],
   "source": [
    "help(math.sin)"
   ]
  },
  {
   "cell_type": "code",
   "execution_count": null,
   "metadata": {},
   "outputs": [],
   "source": [
    "?math.sin"
   ]
  },
  {
   "cell_type": "markdown",
   "metadata": {},
   "source": [
    "## A Very Quick Aside about Object Oriented Programming\n",
    "Python is an object oriented programming language. An object is a container that holds variables and functions. A function that lives in an object is called a method. You can create your own objects by usng class, which defines what variables and methods live in your object. Using a class, you can create as many objects as you like, which all have the same structure, but could contain different information. Inside of an object semi-private variables have a single underscore infront of them and private variables have a double underscore on them. Special methods have a double underscore in their name. In general you should not access semi-private variables and you can't access private variables."
   ]
  },
  {
   "cell_type": "code",
   "execution_count": null,
   "metadata": {},
   "outputs": [],
   "source": [
    "class Circle:\n",
    "    '''This Class Defines a Circle'''\n",
    "    def __init__(self,radius):   #A function that gets run when the object is created\n",
    "        self.radius = radius  #A public variable\n",
    "        self._pi = math.pi    #A Semi-Private variable you generally should not acces this\n",
    "        self.__secret_name = \"Square\" #A Private variable that can't be accessed from outside the object\n",
    "    def area(self):           #A Method\n",
    "        '''This method returns the area of the circle object.'''\n",
    "        return (self._pi*self.radius**2)\n",
    "    def myname(self):\n",
    "        '''This method returns a private variable of the object'''\n",
    "        return(self.__secret_name)\n",
    "    \n",
    "myshape1 = Circle(2)\n",
    "myshape2 = Circle(4)\n",
    "\n",
    "help(myshape1)\n",
    "print(myshape1.radius)\n",
    "print(myshape2.radius)\n",
    "print(myshape1.area())\n",
    "print(myshape2.area())\n",
    "print(myshape1._pi)\n",
    "print(myshape1.myname())"
   ]
  },
  {
   "cell_type": "code",
   "execution_count": null,
   "metadata": {},
   "outputs": [],
   "source": [
    "print(myshape1.__secret_name)"
   ]
  },
  {
   "cell_type": "markdown",
   "metadata": {},
   "source": [
    "## Accessing Module Functions and Objects\n",
    "We can access the module functions, methods, and Objects by using . to separate name spaces. Think of a module as being the largest namespace, then the objects, then methods or variables.\n",
    "\n",
    "By using `module_name.function_name` I can get a function within a given module. We can get to a method inside of an Object by `module_name.object_name.method_name`.\n",
    "The naming system just goes on from there.\n",
    "\n",
    "We can get more specific help on a given function by using help on it."
   ]
  },
  {
   "cell_type": "code",
   "execution_count": null,
   "metadata": {},
   "outputs": [],
   "source": [
    "print(math.pi)\n",
    "print(math.log(math.e))"
   ]
  },
  {
   "cell_type": "code",
   "execution_count": null,
   "metadata": {},
   "outputs": [],
   "source": [
    "help(math.atan2)"
   ]
  },
  {
   "cell_type": "markdown",
   "metadata": {},
   "source": [
    "Sometimes it is tedious to type the work math over and over again. So you can nickname a modlue to make it easier to type."
   ]
  },
  {
   "cell_type": "code",
   "execution_count": null,
   "metadata": {},
   "outputs": [],
   "source": [
    "import math as m\n",
    "print(m.pi)"
   ]
  },
  {
   "cell_type": "markdown",
   "metadata": {},
   "source": [
    "## Importing Individual Functions and Variables into a Namespace\n",
    "Often people don't want to load the whole module, but just a single function or variable. You can do that using the from reserved word. Because the variable is now in the module namespace you don't need a the modulename. to access it anymore. You can use \\* to import everything into the namespace **(although this can overwrite your functions and variables)**."
   ]
  },
  {
   "cell_type": "code",
   "execution_count": null,
   "metadata": {},
   "outputs": [],
   "source": [
    "from math import e\n",
    "print(e)"
   ]
  },
  {
   "cell_type": "code",
   "execution_count": null,
   "metadata": {},
   "outputs": [],
   "source": [
    "from math import *\n",
    "print(pi)"
   ]
  },
  {
   "cell_type": "markdown",
   "metadata": {},
   "source": [
    "## File Input and Output\n",
    "For almost all research (and homework) uses you will want to read and write to a file. To do this you need to create a file object, and then you can work with it. We use the `open` function to do this. We give the `open` function the name of the file to open and whether we want to read or write to the file. We can then use a for loop to read the contents of the file. You should always close a file handle once you are done reading or writing to it."
   ]
  },
  {
   "cell_type": "code",
   "execution_count": null,
   "metadata": {},
   "outputs": [],
   "source": [
    "infile = open('data/hip_tiny.csv','r')\n",
    "for line in infile:\n",
    "    print(line)\n",
    "infile.close()"
   ]
  },
  {
   "cell_type": "markdown",
   "metadata": {},
   "source": [
    "## Chopping up an input file\n",
    "You can get individual lines by using the split function. Remeber each line in an ASCII file is a string, so string functions work on them."
   ]
  },
  {
   "cell_type": "code",
   "execution_count": null,
   "metadata": {},
   "outputs": [],
   "source": [
    "infile = open('data/hip_tiny.csv','r')\n",
    "for line in infile:\n",
    "    llist = line.split(',')    \n",
    "    print(llist[0])\n",
    "infile.close()"
   ]
  },
  {
   "cell_type": "markdown",
   "metadata": {},
   "source": [
    "## Checking for headers\n",
    "Many ASCII files will come with column headers. Be sure to check for those before you include them in a calculation.\n"
   ]
  },
  {
   "cell_type": "code",
   "execution_count": null,
   "metadata": {},
   "outputs": [],
   "source": [
    "infile = open('data/hip_tiny.csv','r')\n",
    "for line in infile:\n",
    "    #Check for header that begins with a # or are entirely blank\n",
    "    if line.startswith(\"#\") or line.isspace():\n",
    "        continue\n",
    "\n",
    "    llist = line.split(',')    \n",
    "    print(llist[0])\n",
    "\n",
    "infile.close()"
   ]
  },
  {
   "cell_type": "markdown",
   "metadata": {},
   "source": [
    "## People Type the Dardest Things\n",
    "When you are opening and closing files, there is always a chance that something goes wrong. Maybe the file just doesn't exist in the right directory. If you doen't want to crash your program, you can use the try-except method to catch errors. For each `try` you can have many `excepts`."
   ]
  },
  {
   "cell_type": "code",
   "execution_count": null,
   "metadata": {},
   "outputs": [],
   "source": [
    "filename = \"nothere.csv\"\n",
    "try:\n",
    "    infile = open(filename,'r')\n",
    "except IOError:\n",
    "    print(\"File {} could not be opened!\".format(filename))"
   ]
  },
  {
   "cell_type": "markdown",
   "metadata": {},
   "source": [
    "## Writing to a file\n",
    "Writing works the same a reading. Create a file object and write to it using the `write` function. The `write` function uses strings so be sure that you are writing a string. Also, it does not automatically put a return at the end of the line, so you need to use the special character `\\n`."
   ]
  },
  {
   "cell_type": "code",
   "execution_count": null,
   "metadata": {},
   "outputs": [],
   "source": [
    "try:\n",
    "    outfile = open('data/mytest.dat','w')\n",
    "except IOError:\n",
    "    print(\"data/mytest.dat could not be opened!\")\n",
    "for i in range(10):\n",
    "    num = i + 1\n",
    "    outfile.write(\"I can count to 10: {}\\n\".format(num))\n",
    "outfile.close()"
   ]
  },
  {
   "cell_type": "markdown",
   "metadata": {},
   "source": [
    "## Working with files\n",
    "There are many modules to help you find files and working with directory structures. For instance, if I don't want to overwrite a file I can use the `os.path` module. The `os` module has many useful functions in it."
   ]
  },
  {
   "cell_type": "code",
   "execution_count": null,
   "metadata": {},
   "outputs": [],
   "source": [
    "import os\n",
    "import os.path as opath\n",
    "\n",
    "if opath.isfile('data/mytest.dat') is True:\n",
    "    print(\"mytest.dat already exists!\")\n",
    "else: \n",
    "    try:\n",
    "        outfile = open('data/mytest.dat','w')\n",
    "    except IOError:\n",
    "        print(\"File data/mytest.dat could not be opened!\")\n",
    "    outfile.close()\n",
    "    \n",
    "#os.remove(\"data/mytest.dat\") #Uncomment this to get rid of /data/mytest.dat!"
   ]
  },
  {
   "cell_type": "markdown",
   "metadata": {},
   "source": [
    "## Lab 3: Now it is your turn\n",
    "Please answer the following questions, then print them off and turn them in. You don't need to print the whole notebook. Only print the pages starting from here."
   ]
  },
  {
   "cell_type": "markdown",
   "metadata": {},
   "source": [
    "Name: "
   ]
  },
  {
   "cell_type": "markdown",
   "metadata": {},
   "source": [
    "**Q1: Why doesn't `print(myshape1.__secret_name)` work?**"
   ]
  },
  {
   "cell_type": "markdown",
   "metadata": {},
   "source": [
    "**Q1 Answer:**"
   ]
  },
  {
   "cell_type": "markdown",
   "metadata": {},
   "source": [
    "**Q2: Write a function that calculates the following equation $y = sin(\\frac{2\\pi x}{5})$. What value does $y$ have for $x=\\frac{\\pi}{2}$ and $x= 3.75$?**"
   ]
  },
  {
   "cell_type": "code",
   "execution_count": null,
   "metadata": {},
   "outputs": [],
   "source": []
  },
  {
   "cell_type": "markdown",
   "metadata": {},
   "source": [
    "**Q3: Read in `data/hip_small.csv` and write out a file `data/hip_bright.csv` where you only write out the lines where `V (mag)` column is less than 5. Be sure to remove headers and blank lines.**"
   ]
  },
  {
   "cell_type": "code",
   "execution_count": null,
   "metadata": {},
   "outputs": [],
   "source": []
  },
  {
   "cell_type": "markdown",
   "metadata": {},
   "source": [
    "**Q4: How many non-header lines are there in hip_small.csv and hip_bright.csv?**"
   ]
  },
  {
   "cell_type": "code",
   "execution_count": null,
   "metadata": {},
   "outputs": [],
   "source": []
  }
 ],
 "metadata": {
  "kernelspec": {
   "display_name": "Python 3",
   "language": "python",
   "name": "python3"
  },
  "language_info": {
   "codemirror_mode": {
    "name": "ipython",
    "version": 3
   },
   "file_extension": ".py",
   "mimetype": "text/x-python",
   "name": "python",
   "nbconvert_exporter": "python",
   "pygments_lexer": "ipython3",
   "version": "3.7.10"
  }
 },
 "nbformat": 4,
 "nbformat_minor": 1
}
