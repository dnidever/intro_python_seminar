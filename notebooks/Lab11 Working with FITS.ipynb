{
 "cells": [
  {
   "cell_type": "markdown",
   "metadata": {},
   "source": [
    "# Lab 11: Working with FITS files\n",
    "Based on the astropy tutorial http://docs.astropy.org/en/stable/io/fits/"
   ]
  },
  {
   "cell_type": "markdown",
   "metadata": {},
   "source": [
    "## FITS Files\n",
    "FITS (Flexible Image Transport System) is a portable file standard widely used in the astronomy community to store images and tables. A fits file generally contains two major pieces of information the **Header** and **Data/Table**."
   ]
  },
  {
   "cell_type": "markdown",
   "metadata": {},
   "source": [
    "## Loading a FITS File\n",
    "\n",
    "FITS files can store more than one image/table and header. An HDU (Header Data Unit) is the highest level component of the FITS file structure, consisting of a header and (typically) a data array or table. When you open a fits file, you get a list of HDUs. You can see information about each HDU by using `.info()`"
   ]
  },
  {
   "cell_type": "code",
   "execution_count": null,
   "metadata": {},
   "outputs": [],
   "source": [
    "from astropy.io import fits\n",
    "import numpy as np\n",
    "import matplotlib.pyplot as plt\n",
    "import astropy.units as u\n",
    "from astropy.coordinates import SkyCoord\n",
    "# change some default plotting parameters\n",
    "import matplotlib as mpl\n",
    "mpl.rcParams['image.origin'] = 'lower'\n",
    "mpl.rcParams['image.cmap'] = 'Greys_r'\n",
    "%matplotlib inline"
   ]
  },
  {
   "cell_type": "code",
   "execution_count": null,
   "metadata": {},
   "outputs": [],
   "source": [
    "hdulist = fits.open('data/aa_aql0007_raw.fits')\n",
    "hdulist.info()\n",
    "#Use hdulist.close() when you are done with the file"
   ]
  },
  {
   "cell_type": "markdown",
   "metadata": {},
   "source": [
    "## FITS Header\n",
    "If you are unfamiliar with the FITS file you can always look at the header. Header information is stored in the `.header` attribute for each HDU in your list."
   ]
  },
  {
   "cell_type": "code",
   "execution_count": null,
   "metadata": {},
   "outputs": [],
   "source": [
    "prihdr = hdulist[0].header\n",
    "print(repr(prihdr))"
   ]
  },
  {
   "cell_type": "markdown",
   "metadata": {},
   "source": [
    "The Header is filled with keyword value comment groups. You can get a list of the keys, and pick out specific keys if you want. You can reference them by name or by location."
   ]
  },
  {
   "cell_type": "code",
   "execution_count": null,
   "metadata": {},
   "outputs": [],
   "source": [
    "print(list(prihdr.keys()))\n",
    "print(\"My Object: {}\".format(prihdr['OBJECT']))\n",
    "print(\"My Object: {}\".format(prihdr[25]))"
   ]
  },
  {
   "cell_type": "markdown",
   "metadata": {},
   "source": [
    "## Adding to or Updating a Header.\n",
    "Headers are stored as dictionaries, so you can create a new value or update a value just by an assignment operation.  You can update the value and the comment at the same time by using a tuple.\n",
    "\n",
    "\n",
    "Be careful about **Comment or History keywords**. There tend to be multiple of them in headers, so you have to reference them by location. Also, when you assign a comment or history it automatically creates a new comment block."
   ]
  },
  {
   "cell_type": "code",
   "execution_count": null,
   "metadata": {},
   "outputs": [],
   "source": [
    "prihdr['Num_Monk'] = (20,\"Fun Times!\")\n",
    "print(list(prihdr.keys()))"
   ]
  },
  {
   "cell_type": "markdown",
   "metadata": {},
   "source": [
    "## Accessing Image Data\n",
    "The image data is stored separately from the header in each HDU."
   ]
  },
  {
   "cell_type": "code",
   "execution_count": null,
   "metadata": {},
   "outputs": [],
   "source": [
    "image_data = hdulist[0].data\n",
    "print(image_data[10,10])"
   ]
  },
  {
   "cell_type": "markdown",
   "metadata": {},
   "source": [
    "## Displaying Data\n",
    "There are two ways to display an image. The first is using the command line tool Ds9. At the command prompt type ds9 imagename. Ds9 is a powerful tool for analyzing image data. It can handle multiple hdu and has a useful interface. \n",
    "\n",
    "You can also view the image in python."
   ]
  },
  {
   "cell_type": "code",
   "execution_count": null,
   "metadata": {},
   "outputs": [],
   "source": [
    "plt.figure()\n",
    "plt.imshow(image_data)\n",
    "plt.colorbar()\n",
    "plt.show()"
   ]
  },
  {
   "cell_type": "markdown",
   "metadata": {},
   "source": [
    "We need to fix the min and max values to something more reasonable."
   ]
  },
  {
   "cell_type": "code",
   "execution_count": null,
   "metadata": {},
   "outputs": [],
   "source": [
    "from astropy.visualization import ZScaleInterval\n",
    "interval = ZScaleInterval()\n",
    "(imin,imax) = interval.get_limits(image_data)\n",
    "plt.imshow(image_data, vmin=imin,vmax=imax)\n",
    "plt.colorbar()\n",
    "plt.show()"
   ]
  },
  {
   "cell_type": "markdown",
   "metadata": {},
   "source": [
    "## Getting Values\n",
    "The image arrays are stored an 2d numpy arrays, so they can be manipulated in the same way. **Be careful**, the x and y in astropy image data are reversed compared to ds9! Also, ds9 starts at pixel [1,1] and astropy starts at [0,0]. I can cut-out regions using [miny:maxy,minx:maxx]."
   ]
  },
  {
   "cell_type": "code",
   "execution_count": null,
   "metadata": {},
   "outputs": [],
   "source": [
    "small_image = image_data[0:130,0:220]\n",
    "print(small_image.shape)\n",
    "(imin,imax) = interval.get_limits(small_image)\n",
    "plt.imshow(small_image, vmin=imin,vmax=imax)\n",
    "plt.colorbar()\n",
    "plt.show()"
   ]
  },
  {
   "cell_type": "code",
   "execution_count": null,
   "metadata": {},
   "outputs": [],
   "source": [
    "print(image_data[61,60])"
   ]
  },
  {
   "cell_type": "markdown",
   "metadata": {},
   "source": [
    "## Archival Data\n",
    "We often want to make finder chart, or otherwise get data that we can work with from archival sources. One image source which covers the whole sky is the Digitized Sky Survey."
   ]
  },
  {
   "cell_type": "code",
   "execution_count": null,
   "metadata": {},
   "outputs": [],
   "source": [
    "from astroquery.skyview import SkyView"
   ]
  },
  {
   "cell_type": "code",
   "execution_count": null,
   "metadata": {},
   "outputs": [],
   "source": [
    "#Returns a list of HDUList\n",
    "#In this case there is only one element\n",
    "image_list = SkyView.get_images(position='SW And', survey=['DSS'],pixels=800)\n",
    "sw_and_hdulist = image_list[0]"
   ]
  },
  {
   "cell_type": "code",
   "execution_count": null,
   "metadata": {},
   "outputs": [],
   "source": [
    "sw_and_hdulist.info()"
   ]
  },
  {
   "cell_type": "code",
   "execution_count": null,
   "metadata": {},
   "outputs": [],
   "source": [
    "print(repr(sw_and_hdulist[0].header))"
   ]
  },
  {
   "cell_type": "code",
   "execution_count": null,
   "metadata": {},
   "outputs": [],
   "source": [
    "(imin,imax) = interval.get_limits(sw_and_hdulist[0].data)\n",
    "plt.imshow(sw_and_hdulist[0].data, vmin=imin,vmax=imax)\n",
    "plt.colorbar()\n",
    "plt.show()"
   ]
  },
  {
   "cell_type": "markdown",
   "metadata": {},
   "source": [
    "## Save your results\n",
    "You can save your results by giving the function fits.writeto() your data and an optional header."
   ]
  },
  {
   "cell_type": "code",
   "execution_count": null,
   "metadata": {},
   "outputs": [],
   "source": [
    "sw_and_hdulist.writeto('data/sw_and.fits',overwrite=True)"
   ]
  },
  {
   "cell_type": "markdown",
   "metadata": {},
   "source": [
    "## World Coordinate Systems\n",
    "In many images, a World Coordindate System (WCS) is provided. A WCS transforms from pixel space to RA/DEC space and vice-versa. All images from Skyserver have a WCS"
   ]
  },
  {
   "cell_type": "code",
   "execution_count": null,
   "metadata": {},
   "outputs": [],
   "source": [
    "from astropy.wcs import WCS\n",
    "#Get the WCS from the header\n",
    "wcs = WCS(sw_and_hdulist[0].header)\n",
    "wcs.printwcs()"
   ]
  },
  {
   "cell_type": "markdown",
   "metadata": {},
   "source": [
    "## Converting between RA/DEC and Pixel Space\n",
    "You can use the `all_pix2world()` method to transform a pixel location into a RA and DEC both in degrees. You can use `all_world2pix()` to convert RA and DEC both in degrees into a pixel coordinate."
   ]
  },
  {
   "cell_type": "code",
   "execution_count": null,
   "metadata": {},
   "outputs": [],
   "source": [
    "#all_pix2world(xpixel, ypixel, origin)\n",
    "#origin is equal to 0 for a numpy array.\n",
    "ra, dec = wcs.all_pix2world(365, 533, 0)\n",
    "print(ra, dec)\n",
    "xpix, ypix = wcs.all_world2pix(ra,dec,0)\n",
    "print(xpix,ypix)"
   ]
  },
  {
   "cell_type": "markdown",
   "metadata": {},
   "source": [
    "## Get the coordiates of SW And\n",
    "I can just use the `from_name()` method to get the coordinates of SW And. I could also just create a Skycoord object by typing in coordinates."
   ]
  },
  {
   "cell_type": "code",
   "execution_count": null,
   "metadata": {},
   "outputs": [],
   "source": [
    "sw_and_center = SkyCoord.from_name('SW And')"
   ]
  },
  {
   "cell_type": "code",
   "execution_count": null,
   "metadata": {},
   "outputs": [],
   "source": [
    "xpix, ypix = wcs.all_world2pix(sw_and_center.ra,sw_and_center.dec,0)\n",
    "(imin,imax) = interval.get_limits(sw_and_hdulist[0].data)\n",
    "plt.imshow(sw_and_hdulist[0].data, vmin=imin,vmax=imax)\n",
    "plt.scatter(xpix, ypix, s=300,edgecolor='yellow', facecolor='none')\n",
    "plt.text(280,500,'SW And',color='yellow',fontsize=18)\n",
    "plt.colorbar()\n",
    "plt.show()"
   ]
  },
  {
   "cell_type": "markdown",
   "metadata": {},
   "source": [
    "## WCS Axis Projections and Transformations\n",
    "You can create an axis for your image that contains information about which pixel has what RA and DEC. Below I create an Axes, `ax`, which then I can use the `get_transform()` function to tell my plotting to use RA, DEC instead of pixel coordinates."
   ]
  },
  {
   "cell_type": "code",
   "execution_count": null,
   "metadata": {},
   "outputs": [],
   "source": [
    "ratext,dectext = wcs.all_pix2world(280, 500, 0)\n",
    "\n",
    "ax = plt.subplot(projection=wcs)\n",
    "(imin,imax) = interval.get_limits(sw_and_hdulist[0].data)\n",
    "plt.imshow(sw_and_hdulist[0].data, vmin=imin,vmax=imax)\n",
    "plt.colorbar()\n",
    "plt.text(ratext,dectext,'SW And',color='yellow',fontsize=18, transform=ax.get_transform('fk5'))\n",
    "plt.scatter(sw_and_center.ra,sw_and_center.dec, transform=ax.get_transform('fk5'), s=300,\n",
    "           edgecolor='yellow', facecolor='none')\n",
    "plt.show()"
   ]
  },
  {
   "cell_type": "markdown",
   "metadata": {},
   "source": [
    "## Lab 11: Now it is your turn\n",
    "Please answer the following questions, then print them off and turn them in. You don't need to print the whole notebook. Only print the pages starting from here."
   ]
  },
  {
   "cell_type": "markdown",
   "metadata": {},
   "source": [
    "Name:"
   ]
  },
  {
   "cell_type": "markdown",
   "metadata": {},
   "source": [
    "**Q1: Convert the RA and DEC for the object in this image into degrees, and create two new keys ra_deg and dec_deg and update the header of `hdulist[0]`.**"
   ]
  },
  {
   "cell_type": "code",
   "execution_count": null,
   "metadata": {},
   "outputs": [],
   "source": []
  },
  {
   "cell_type": "markdown",
   "metadata": {},
   "source": [
    "**Q2: What pixel in ds9 has the same value as 61,60 in `hdulist[0]`?**"
   ]
  },
  {
   "cell_type": "markdown",
   "metadata": {},
   "source": [
    "**Answer:**"
   ]
  },
  {
   "cell_type": "markdown",
   "metadata": {},
   "source": [
    "**Q3: Get a 400x400 pixel image of M57 and display it using `imshow()`.**"
   ]
  },
  {
   "cell_type": "code",
   "execution_count": null,
   "metadata": {},
   "outputs": [],
   "source": []
  },
  {
   "cell_type": "markdown",
   "metadata": {},
   "source": [
    "**Q4: What is the RA and Dec of pixel [302, 150] on the M57 image?**"
   ]
  },
  {
   "cell_type": "code",
   "execution_count": null,
   "metadata": {},
   "outputs": [],
   "source": []
  },
  {
   "cell_type": "markdown",
   "metadata": {},
   "source": [
    "**Q5: Draw a circle around coordinate RA = 18:53:16.87 DEC = 32:58:21.5 on the M57 image?**"
   ]
  },
  {
   "cell_type": "code",
   "execution_count": null,
   "metadata": {},
   "outputs": [],
   "source": []
  }
 ],
 "metadata": {
  "kernelspec": {
   "display_name": "Python 3 (ipykernel)",
   "language": "python",
   "name": "python3"
  },
  "language_info": {
   "codemirror_mode": {
    "name": "ipython",
    "version": 3
   },
   "file_extension": ".py",
   "mimetype": "text/x-python",
   "name": "python",
   "nbconvert_exporter": "python",
   "pygments_lexer": "ipython3",
   "version": "3.9.7"
  }
 },
 "nbformat": 4,
 "nbformat_minor": 4
}
