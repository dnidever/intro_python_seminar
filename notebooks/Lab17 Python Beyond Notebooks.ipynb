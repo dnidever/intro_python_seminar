{
 "cells": [
  {
   "cell_type": "markdown",
   "metadata": {},
   "source": [
    "# Lab 16: Using Python Outside of Jupyter-Notebooks\n",
    "Through this course we've done a number of Labs using the Jupyter-Notebooks, but they are just one way in which you can interact with python. In most cases, you will actually write Python scripts to do the work that you want to do. We'll spen a few moments talking about how to continue using python in order to accomplish your learning/research/work goals."
   ]
  },
  {
   "cell_type": "markdown",
   "metadata": {},
   "source": [
    "## The Python Script / Module\n",
    "The Python script is the fundamental way in which people actually use python. A python script is an ordinary (plain) text file that contains a special heading and your python code. All python scripts should end in `.py`, and they all begin with the line:\n",
    "\n",
    "`#!/usr/bin/env python` \n",
    "\n",
    "This line tells your linux shell to execute the python script with your default python interpreter. In some cases, you will need to be explicit about which interpreter you use, say you have more than one installed on your system. In that case you would write `#!/pathToPython` replacing **pathToPython** with whatever version of python you want to use. \n",
    "\n",
    "Once you a ready to test your code, you need to make the python script executable. Let's say your script name is **myFirstScript.py** then you would type on the command line:\n",
    "\n",
    "`chmod +x myFirstScript.py` \n",
    "\n",
    "This will make your code executable, and you can then just run your code by typing: \n",
    "\n",
    "`./myFirstScript.py`"
   ]
  },
  {
   "cell_type": "markdown",
   "metadata": {},
   "source": [
    "## Structure of a Python Script\n",
    "One of the most important abilities of Python is code reusability. This is one reason that writing functions and classes are so important because in the same way that you import functions from the standard modules, you can also import functions from your own code. As long as that code is in your `pythonpath` you can simply use an import statement along with the name of your script (minus the .py). However, in order to do this you need to make sure that the script itself doesn't exectute. We do this by using the followin if statement:"
   ]
  },
  {
   "cell_type": "code",
   "execution_count": null,
   "metadata": {},
   "outputs": [],
   "source": [
    "if __name__ == '__main__':\n",
    "    print(\"I executed!\")"
   ]
  },
  {
   "cell_type": "markdown",
   "metadata": {},
   "source": [
    "Anything within this if statement will only execute if the module is run, and not if the module is imported. All of your Python scripts that have functions in them should use this piece of code. You will be happy you did, when you need to reuse your functions down the line."
   ]
  },
  {
   "cell_type": "markdown",
   "metadata": {},
   "source": [
    "## Good Commenting\n",
    "Any .py file is called a module. There are no particular rules for how a module should be setup outside of importing your modules and defining your functions and classes before you use them. That being said, I like to have some structure to my Python modules, so that I can easily find things. Here is my basic template: "
   ]
  },
  {
   "cell_type": "code",
   "execution_count": null,
   "metadata": {},
   "outputs": [],
   "source": [
    "#!/usr/bin/env python\n",
    "'''\n",
    "Brief Description\n",
    "\n",
    "Detailed Description\n",
    "\n",
    "@package template\n",
    "@author Nathan De Lee\n",
    "@version 1.0\n",
    "@date 2016-11-29\n",
    "\n",
    "Usage: template.py\n",
    "'''\n",
    "\n",
    "# -----------------------------\n",
    "# Standard library dependencies\n",
    "# -----------------------------\n",
    "import math\n",
    "import sys\n",
    "\n",
    "# -------------------\n",
    "# Third-party imports\n",
    "# -------------------\n",
    "import matplotlib.pyplot as pl\n",
    "import numpy as np\n",
    "\n",
    "# -----------------\n",
    "# Class Definitions\n",
    "# -----------------\n",
    "\n",
    "# --------------------\n",
    "# Function Definitions\n",
    "# --------------------\n",
    "def example_func():\n",
    "    pass\n",
    "\n",
    "# -------------\n",
    "# Main Function\n",
    "# -------------\n",
    "def template_main():\n",
    "    example_func()\n",
    "    \n",
    "if __name__ == '__main__':\n",
    "    template_main()"
   ]
  },
  {
   "cell_type": "markdown",
   "metadata": {},
   "source": [
    "## Plots\n",
    "When you make plots in the Jupyter Notebooks them simply appear in the notebook itself. However, when you have a script you will want to save the results in an image or pdf file. If you use an image file, then you will have to save each plot to a new image. If you use pdf, you can save plots to separate pages in the pdf. Create a script called: `trig.py`."
   ]
  },
  {
   "cell_type": "code",
   "execution_count": null,
   "metadata": {},
   "outputs": [],
   "source": [
    "#!/usr/bin/env python\n",
    "'''\n",
    "Brief Description\n",
    "trig.py is a script that creates plots of sine and cosine functions\n",
    "\n",
    "Detailed Description\n",
    "trig.py is a script that creates plots of sine and cosine functions\n",
    "\n",
    "@package trig\n",
    "@author Nathan De Lee\n",
    "@version 1.0\n",
    "@date 2016-11-29\n",
    "\n",
    "Usage: trig.py\n",
    "'''\n",
    "\n",
    "# -----------------------------\n",
    "# Standard library dependencies\n",
    "# -----------------------------\n",
    "\n",
    "# -------------------\n",
    "# Third-party imports\n",
    "# -------------------\n",
    "import matplotlib.pyplot as pl\n",
    "from matplotlib.backends.backend_pdf import PdfPages\n",
    "import numpy as np\n",
    "\n",
    "# -----------------\n",
    "# Class Definitions\n",
    "# -----------------\n",
    "\n",
    "# --------------------\n",
    "# Function Definitions\n",
    "# --------------------\n",
    "def mycos(x,amp=1.0,period=1.0,phase=0):\n",
    "    return amp*np.cos(x/period + phase)\n",
    "\n",
    "def mysin(x,amp=1.0,period=1.0,phase=0):\n",
    "    return amp*np.sin(x/period + phase)\n",
    "\n",
    "# -------------\n",
    "# Main Function\n",
    "# -------------\n",
    "def trig_main():\n",
    "    \n",
    "    pp = PdfPages('trig.pdf') #Open the pdf\n",
    "    \n",
    "    x = np.linspace(0,2*np.pi,20)\n",
    "    y = mysin(x)\n",
    "    z = mycos(x)\n",
    "    pl.plot(x,y)\n",
    "\n",
    "    pl.savefig(\"sin.png\") #Saves the plot to a png file\n",
    "    pp.savefig() #Saves the plot as a page in the pdf\n",
    "    pl.clf() #Clears the plot buffer\n",
    "\n",
    "    pl.plot(x,z)\n",
    "    pl.savefig(\"cos.png\")\n",
    "    pp.savefig()\n",
    "    pp.close() #Close the pdf\n",
    "    \n",
    "if __name__ == '__main__':\n",
    "    trig_main()"
   ]
  },
  {
   "cell_type": "markdown",
   "metadata": {},
   "source": [
    "I give basic information about the script at the top and then I do all my imports. Standard librarys (or modules) are like math, sys, etc. Third-party are numpy, matplotlib, astropy, things that are not installed on a system by default. I generally try to define all of my classes and functions in alphabetical order, so that I can find them more easily later on. Note that the main function only gets exectuted if the module is run from the command line."
   ]
  },
  {
   "cell_type": "markdown",
   "metadata": {},
   "source": [
    "## Program arguments\n",
    "The final module I will discuss is the **argparse** module. This module makes an easy way for you to call your module/script with command line arguments that control the behavior of the program. **Argparse** let's you build up your command line piece by piece. It also creates niffty help documentation for you. Copy the following into `supertrig.py`."
   ]
  },
  {
   "cell_type": "code",
   "execution_count": null,
   "metadata": {},
   "outputs": [],
   "source": [
    "#!/usr/bin/env python\n",
    "'''\n",
    "Brief Description\n",
    "supertrig.py is a script that creates plots of sine and cosine functions\n",
    "\n",
    "Detailed Description\n",
    "supertrig.py is a script that creates plots of sine and cosine functions while giving you the option\n",
    "to change the amplitude, period, and phase\n",
    "\n",
    "@package trig\n",
    "@author Nathan De Lee\n",
    "@version 1.0\n",
    "@date 2016-11-29\n",
    "\n",
    "Usage: supertrig.py [-h] [-d] [-p PERIOD] [--phase PHASE] amplitude\n",
    "'''\n",
    "\n",
    "# -----------------------------\n",
    "# Standard library dependencies\n",
    "# -----------------------------\n",
    "import argparse\n",
    "\n",
    "# -------------------\n",
    "# Third-party imports\n",
    "# -------------------\n",
    "import matplotlib.pyplot as pl\n",
    "from matplotlib.backends.backend_pdf import PdfPages\n",
    "import numpy as np\n",
    "from trig import mycos,mysin\n",
    "\n",
    "# -----------------\n",
    "# Class Definitions\n",
    "# -----------------\n",
    "\n",
    "# --------------------\n",
    "# Function Definitions\n",
    "# --------------------\n",
    "\n",
    "# -------------\n",
    "# Main Function\n",
    "# -------------\n",
    "def supertrig_main(amp,period=1,dots=False,phase=0):\n",
    "    \n",
    "    pp = PdfPages('strig.pdf') #Open the pdf\n",
    "    \n",
    "    x = np.linspace(0,2*np.pi,20)\n",
    "    y = mysin(x,amp,period,phase)\n",
    "    z = mycos(x,amp,period,phase)\n",
    "    if(dots == True):\n",
    "        pl.plot(x,y,'o')\n",
    "    else:\n",
    "        pl.plot(x,y)\n",
    "\n",
    "    pl.savefig(\"ssin.png\") #Saves the plot to a png file\n",
    "    pp.savefig() #Saves the plot as a page in the pdf\n",
    "    pl.clf() #Clears the plot buffer\n",
    "\n",
    "    if(dots == True):\n",
    "        pl.plot(x,z,'o')\n",
    "    else:\n",
    "        pl.plot(x,z)\n",
    "\n",
    "    pl.savefig(\"scos.png\")\n",
    "    pp.savefig()\n",
    "    pp.close() #Close the pdf\n",
    "    \n",
    "if __name__ == '__main__':\n",
    "    parser = argparse.ArgumentParser(description='A script that creates plots of sine and cosine functions')\n",
    "    parser.add_argument('amplitude',type=float,help='Amplitude of the curves')\n",
    "    parser.add_argument('-d', action='store_true',help=\"Use dots instead of lines.\")\n",
    "    parser.add_argument('-p', type=float,default=1.0,metavar=\"PERIOD\",help=\"Period of the curves\")\n",
    "    parser.add_argument('--phase', type=float,default=0.0,help=\"Phase of the curves\")\n",
    "\n",
    "    \n",
    "#Put this in a dictionary    \n",
    "    args = vars(parser.parse_args())\n",
    "    supertrig_main(args['amplitude'],period=args['p'],dots=args['d'],phase=args['phase'])"
   ]
  },
  {
   "cell_type": "markdown",
   "metadata": {},
   "source": [
    "## Lab 16: Now it is your turn\n",
    "Please answer the following questions, then print them off and turn them in. You don't need to print the whole notebook. Only print the pages starting from here."
   ]
  },
  {
   "cell_type": "markdown",
   "metadata": {},
   "source": [
    "Name:"
   ]
  },
  {
   "cell_type": "markdown",
   "metadata": {},
   "source": [
    "**Q1: Open a terminal, and make a directory called `python`. Inside of the `python` directory create the file `myFirstScript.py` by typing `emacs myFirstScript.py` in at the terminal. In the window that pops up be sure to add the `#!/usr/bin/env python` from above as the very first line in the text file. Then enter the code below. Finally save the file and run `chmod +x myFirstScript.py`. Finally execute your script and see if it gives the same output as the code below.**"
   ]
  },
  {
   "cell_type": "code",
   "execution_count": null,
   "metadata": {},
   "outputs": [],
   "source": [
    "greeting = \"Hello World!\"\n",
    "print(greeting)\n",
    "for char in greeting:\n",
    "    print(char,end=\"\")\n",
    "    print(\" \",end=\"\")\n",
    "print(\"\")"
   ]
  },
  {
   "cell_type": "markdown",
   "metadata": {},
   "source": [
    "**Q2: Write a Python module that takes the constants a,b,c,d and generates three plots: $ax^3 + bx^2 + cx + d$, $bx^2 + cx + d$, and $cx + d$. Make d an optional argument with default of 0.0**"
   ]
  },
  {
   "cell_type": "code",
   "execution_count": null,
   "metadata": {},
   "outputs": [],
   "source": []
  }
 ],
 "metadata": {
  "kernelspec": {
   "display_name": "Python 3",
   "language": "python",
   "name": "python3"
  },
  "language_info": {
   "codemirror_mode": {
    "name": "ipython",
    "version": 3
   },
   "file_extension": ".py",
   "mimetype": "text/x-python",
   "name": "python",
   "nbconvert_exporter": "python",
   "pygments_lexer": "ipython3",
   "version": "3.7.3"
  }
 },
 "nbformat": 4,
 "nbformat_minor": 1
}
