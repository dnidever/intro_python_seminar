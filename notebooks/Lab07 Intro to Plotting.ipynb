{
 "cells": [
  {
   "cell_type": "markdown",
   "metadata": {},
   "source": [
    "# Lab 7: Intro to Plotting\n",
    "The purpose of this lab is to explore how to make simple plots in Python. In later labs we will explore more advanced plotting techniques, but for now our goal is to be able to do some everyday plots with our data. I relied heavily on the Matplotlib Pyplot Tutorial (https://matplotlib.org/tutorials/introductory/pyplot.html#sphx-glr-tutorials-introductory-pyplot-py)."
   ]
  },
  {
   "cell_type": "markdown",
   "metadata": {},
   "source": [
    "## Setting things up\n",
    "There are a number of new imports we need to do in order to create plots. All of the plotting we will do in this class uses the module **Matplotlib** [https://matplotlib.org/]. This module gives us access to a huge array of different plotting tools. Matplotlib is so tightly interwoven with Python notebooks that there is a special set of magic keywords associated with it. All magic keywords are precedded with a %. The one we will use is called `%matplotlib inline`. It allows us to display plots directly in the notebook without issue."
   ]
  },
  {
   "cell_type": "code",
   "execution_count": null,
   "metadata": {},
   "outputs": [],
   "source": [
    "import numpy as np\n",
    "from astropy.table import Table\n",
    "\n",
    "from matplotlib import pyplot as plt #Our new imports\n",
    "#The matplotlib magic. Don't forget this in new notebooks\n",
    "%matplotlib inline "
   ]
  },
  {
   "cell_type": "markdown",
   "metadata": {},
   "source": [
    "# Simple Plots\n",
    "The simplest plots are just line or scatter plots. Generally you start with an x array and a y array for your points."
   ]
  },
  {
   "cell_type": "code",
   "execution_count": null,
   "metadata": {},
   "outputs": [],
   "source": [
    "x = np.array([1,2,3,4,5])\n",
    "y = 1.5*x+2\n",
    "plt.plot(x,y)\n",
    "plt.xlabel('My X-axis')\n",
    "plt.ylabel('My Y-Axis')\n",
    "plt.show() #This is only necessary if plotting is not the last thing in the code cell."
   ]
  },
  {
   "cell_type": "markdown",
   "metadata": {},
   "source": [
    "We can plot more than one thing on a plot at a time. All we have to do is issue more ploting commands. I can control the color and type of the line using a format string.  The format string consists of a color and a style. In Python notebooks, we can use `plt.tight_layout()` because it causes everything to fit, especially with multiplots. And we don't need to add `plt.show()` at the end because the notebook will automatically show the current figure."
   ]
  },
  {
   "cell_type": "code",
   "execution_count": null,
   "metadata": {},
   "outputs": [],
   "source": [
    "x = np.linspace(0, 2, 20) #Create 20 linearly space points from (0,2)\n",
    "\n",
    "plt.plot(x, x,'r-.') #Red line dash-dot\n",
    "plt.plot(x, x**2,'g-') #Green line normal\n",
    "plt.plot(x, x**3,'b--') #Blue line dashed\n",
    "\n",
    "plt.xlabel('x')\n",
    "plt.ylabel('y')\n",
    "\n",
    "plt.tight_layout() "
   ]
  },
  {
   "cell_type": "markdown",
   "metadata": {},
   "source": [
    "We can also add Titles, legends and use points instead of lines."
   ]
  },
  {
   "cell_type": "code",
   "execution_count": null,
   "metadata": {},
   "outputs": [],
   "source": [
    "x = np.linspace(0, 2, 20) #Create 20 linearly space points from (0,2)\n",
    "\n",
    "plt.plot(x, x,'c.', label=\"Linear\") #Cyan line dash-dot\n",
    "plt.plot(x, x**2,'mo', label=\"Quadratic\") #Magenta line normal\n",
    "plt.plot(x, x**3,'k^', label=\"Cubic\") #Black line dashed\n",
    "\n",
    "plt.xlabel('x')\n",
    "plt.ylabel('y')\n",
    "plt.title(\"Fancy Plot\")\n",
    "plt.legend()\n",
    "\n",
    "plt.tight_layout() "
   ]
  },
  {
   "cell_type": "markdown",
   "metadata": {},
   "source": [
    "You can also do things like change point sizes or line widths"
   ]
  },
  {
   "cell_type": "code",
   "execution_count": null,
   "metadata": {},
   "outputs": [],
   "source": [
    "x = np.linspace(0, 2, 20) #Create 20 linearly space points from (0,2)\n",
    "\n",
    "plt.plot(x, x,'c+', markersize=5,label=\"Linear\") #Cyan line dash-dot\n",
    "plt.plot(x, x**2,'r:', linewidth=3,label=\"Quadratic\") #Magenta line normal\n",
    "plt.plot(x, x**3,'b-', linewidth=4,label=\"Cubic\") #Black line dashed\n",
    "\n",
    "plt.xlabel('x')\n",
    "plt.ylabel('y')\n",
    "plt.title(\"Fancy Plot\")\n",
    "plt.legend()\n",
    "\n",
    "plt.tight_layout() "
   ]
  },
  {
   "cell_type": "markdown",
   "metadata": {},
   "source": [
    "## Multiple plots\n",
    "Sometimes you want to have more than one plot at a time. A simple way to do it is using `plt.subplot`. The order of arguements is (num_ver,num_hor,plot_num). You need to give all the plot elements for each plot (`xlabel`,`title`,etc)."
   ]
  },
  {
   "cell_type": "code",
   "execution_count": null,
   "metadata": {},
   "outputs": [],
   "source": [
    "plt.subplot(311)\n",
    "x = np.linspace(0, 2, 20) #Create 20 linearly space points from (0,2)\n",
    "\n",
    "plt.plot(x, x,'r.-')\n",
    "plt.ylabel('y')\n",
    "plt.title('Red Line')\n",
    "\n",
    "plt.subplot(312)\n",
    "plt.plot(x, x**2,c='green', marker='*', ls='None')\n",
    "plt.ylabel('y')\n",
    "plt.title('Green Line')\n",
    "\n",
    "plt.subplot(313)\n",
    "plt.plot(x, x**3,c='darkorange',ls=':')\n",
    "plt.xlabel('x')\n",
    "plt.ylabel('y')\n",
    "plt.title('Orange Line')\n",
    "\n",
    "plt.tight_layout()"
   ]
  },
  {
   "cell_type": "markdown",
   "metadata": {},
   "source": [
    "## Controlling the axis\n",
    "You can also make plots with logarithmic axis and control the x and y limits of the axis. You can also invert the axes, and control the size of the whole figure."
   ]
  },
  {
   "cell_type": "code",
   "execution_count": null,
   "metadata": {},
   "outputs": [],
   "source": [
    "plt.figure(figsize=(8,5)) #Control the size of the full plot (x, y)\n",
    "plt.subplot(231)\n",
    "x = np.linspace(-2, 30, 25) #Create 20 linearly space points from (0,2)\n",
    "\n",
    "plt.plot(x, x,'r.')\n",
    "plt.ylabel('y')\n",
    "plt.title(\"Plot 1\")\n",
    "\n",
    "plt.subplot(232)\n",
    "plt.plot(x, x**2,c='green', marker='*', ls='None')\n",
    "plt.xlim(-5,8)\n",
    "plt.ylim(-10,25)\n",
    "plt.title(\"Plot 2\")\n",
    "\n",
    "plt.subplot(233)\n",
    "plt.plot(x, x**3,c='darkorange',ls=':')\n",
    "plt.xlabel('x')\n",
    "plt.ylabel('y')\n",
    "plt.yscale('symlog') #Handles the range around 0 in linear coordinates.\n",
    "plt.title(\"Plot 3\")\n",
    "\n",
    "plt.subplot(234)\n",
    "plt.plot(x, x**4,c='purple',marker='o')\n",
    "plt.yscale('log')\n",
    "plt.xlabel('x')\n",
    "plt.title(\"Plot 4\")\n",
    "\n",
    "plt.subplot(235)\n",
    "plt.plot(x, x**2+x,c='gold',marker='o',linewidth=3)\n",
    "plt.xlabel('x')\n",
    "plt.gca().invert_yaxis()\n",
    "plt.title(\"Plot 5\")\n",
    "\n",
    "plt.subplot(236)\n",
    "plt.plot(x, x**2+x,c='lightgreen',linestyle=\":\",linewidth=4)\n",
    "plt.xlabel('x')\n",
    "plt.gca().invert_xaxis()\n",
    "plt.title(\"Plot 6\")\n",
    "\n",
    "plt.tight_layout()"
   ]
  },
  {
   "cell_type": "markdown",
   "metadata": {},
   "source": [
    "*Note*: In Matplotlib terminology, `Axes` are objects that live inside the `Figure` and contain the plots themselves. When using `plt.subplot()`, `plt.plot()`, for example, Matplotlib is creating an `Axes` object without you noticing. On the other hand, an **axis** is the traditional x and y directions of a 2D graph."
   ]
  },
  {
   "cell_type": "markdown",
   "metadata": {},
   "source": [
    "## Data with Errorbars\n",
    "Let's read in some data and add errorbars to the plot. The method `plt.errorbar` gives one access to the keywords `xerr` and `yerr`. Note that `plt.show()` is better with a `suptitle`. Mulitplots always take some effort to get right."
   ]
  },
  {
   "cell_type": "code",
   "execution_count": null,
   "metadata": {},
   "outputs": [],
   "source": [
    "hip_tab = Table.read('data/hip_tiny.csv')\n",
    "print(hip_tab.columns) #Print the columns of the table\n",
    "\n",
    "plt.subplot(1,2,1)\n",
    "plt.errorbar(hip_tab['V (mag)'],hip_tab['Plx (milliarcsec)'],xerr=hip_tab['err_V'],yerr=hip_tab['err_Plx'],fmt='b+')\n",
    "plt.xlabel('V (mag)')\n",
    "plt.ylabel('Plx (mas)')\n",
    "\n",
    "plt.subplot(1,2,2)\n",
    "plt.errorbar(hip_tab['V (mag)'],hip_tab['Plx (milliarcsec)'],yerr=hip_tab['err_Plx'],fmt='go',capsize=4)\n",
    "plt.xlabel('V (mag)')\n",
    "plt.suptitle(\"Two Plots\")\n",
    "plt.show()"
   ]
  },
  {
   "cell_type": "markdown",
   "metadata": {},
   "source": [
    "## Histograms\n",
    "When plotting large amounts of data you often want to use a histogram. A histogram is when you take data and you put it into a series of bins. The x-axis is the value you are histogramming and the y-axis is the number of items in each bin. The number of bins you use is up to you, if you set bins to `'auto'`, it will use an algorithm to find the best number of bins. It is worth noting that you want enough bins to see what is happening in the data, but not so many that you have too few objects in each bin. Usage: `plt.hist(data,bins,keywords)`. You can also add text to your plot. When using text put an `r'text'` means raw string. We use that if we don't want to use things like `\\n`. If you include `$TeX formating$` you can use TeX math formating to give fancy symbols."
   ]
  },
  {
   "cell_type": "code",
   "execution_count": null,
   "metadata": {},
   "outputs": [],
   "source": [
    "mu, sigma = 100, 15\n",
    "x = mu + sigma * np.random.randn(10000) #Generate some Gaussian normal data\n",
    "\n",
    "plt.hist(x,50,range=(20,160),color=\"#58ACFA\",edgecolor='black')\n",
    "#Using Data coordinates\n",
    "plt.text(25, 500, r'Gaussian: $\\mu={}$'.format(mu)) \n",
    "#Using axes coordinates (0,0) to (1,1)\n",
    "plt.text(.215,.57,r'$\\sigma={}$'.format(sigma),transform=plt.gca().transAxes) \n",
    "plt.tight_layout()"
   ]
  },
  {
   "cell_type": "markdown",
   "metadata": {},
   "source": [
    "You can make your own histograms if you already have the counts per bin."
   ]
  },
  {
   "cell_type": "code",
   "execution_count": null,
   "metadata": {},
   "outputs": [],
   "source": [
    "xcenter = np.array([1,2,3,4,5,6])\n",
    "count = np.array([4,8,20,7,3,2])\n",
    "plt.bar(xcenter,count,width=1,edgecolor='black')\n",
    "plt.tight_layout()"
   ]
  },
  {
   "cell_type": "markdown",
   "metadata": {},
   "source": [
    "## Lab 7: Now it is your turn\n",
    "Please answer the following questions, then print them off and turn them in. You don't need to print the whole notebook. Only print the pages starting from here."
   ]
  },
  {
   "cell_type": "markdown",
   "metadata": {},
   "source": [
    "Name: "
   ]
  },
  {
   "cell_type": "markdown",
   "metadata": {},
   "source": [
    "**Q1: Create a plot of sin(x) and cos(x) going from 0 to $2\\pi$ on the same graph. Be sure to include a legend.**"
   ]
  },
  {
   "cell_type": "code",
   "execution_count": null,
   "metadata": {},
   "outputs": [],
   "source": []
  },
  {
   "cell_type": "markdown",
   "metadata": {},
   "source": [
    "**Q2: Creat a scatter plot using `data/hip_tiny.csv` to plot V (mag) vs. B (mag) with x and y error bars**"
   ]
  },
  {
   "cell_type": "code",
   "execution_count": null,
   "metadata": {},
   "outputs": [],
   "source": []
  },
  {
   "cell_type": "markdown",
   "metadata": {},
   "source": [
    "**Q3: Take the data from `/data/hip_small.csv` and make 2 histograms side by side horizontally. The first histogram should be of B (mag) and the other V (mag). Write the max, mean and min of the data set on each plot.**"
   ]
  },
  {
   "cell_type": "code",
   "execution_count": null,
   "metadata": {},
   "outputs": [],
   "source": []
  }
 ],
 "metadata": {
  "kernelspec": {
   "display_name": "Python 3 (ipykernel)",
   "language": "python",
   "name": "python3"
  },
  "language_info": {
   "codemirror_mode": {
    "name": "ipython",
    "version": 3
   },
   "file_extension": ".py",
   "mimetype": "text/x-python",
   "name": "python",
   "nbconvert_exporter": "python",
   "pygments_lexer": "ipython3",
   "version": "3.9.7"
  }
 },
 "nbformat": 4,
 "nbformat_minor": 4
}
