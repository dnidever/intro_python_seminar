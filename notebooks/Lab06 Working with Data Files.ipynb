{
 "cells": [
  {
   "cell_type": "markdown",
   "metadata": {},
   "source": [
    "# Lab 6: Working with Data Files\n",
    "In many kinds of research, we need to be able to read in and manipulate data. In this lab we will look at different ways of reading in, writing out, and manipulating data files."
   ]
  },
  {
   "cell_type": "markdown",
   "metadata": {},
   "source": [
    "## The Standard Method\n",
    "As we saw in **Lab 03** we learned how to read in and write out a standard ascii file. In general we want to put data into numpy arrays, so that we can work with it. If we use a standard read in, that requires a lot of work on our part. When you want to create a new numpy array, it is computationally cheaper to create a list first and then create a numpy array."
   ]
  },
  {
   "cell_type": "code",
   "execution_count": null,
   "metadata": {},
   "outputs": [],
   "source": [
    "#Get my imports dealt with\n",
    "import numpy as np\n",
    "import astropy.units as u"
   ]
  },
  {
   "cell_type": "code",
   "execution_count": null,
   "metadata": {},
   "outputs": [],
   "source": [
    "try:\n",
    "    infile = open('data/hip_tiny.csv','r')\n",
    "except IOError:\n",
    "    print(\"File data/hip_tiny.csv could not be opened!\")\n",
    "\n",
    "#Define lists\n",
    "name_list = list()\n",
    "vmag_list = list()\n",
    "    \n",
    "for line in infile:\n",
    "    #Check for header that begins with a # or are entirely blank\n",
    "    if line.startswith(\"#\") or line.isspace():\n",
    "        print(line) #Print the header\n",
    "        continue\n",
    "    llist = line.split(',')\n",
    "    name_list.append(llist[0])        #It is okay if the name is a string\n",
    "    vmag_list.append(float(llist[5])) #Remember Vmag should be a float\n",
    "\n",
    "infile.close()\n",
    "\n",
    "#Now convert to numpy arrays\n",
    "name_arr = np.array(name_list)\n",
    "vmag_arr = np.array(vmag_list)\n",
    "print(name_arr)\n",
    "print(vmag_arr)"
   ]
  },
  {
   "cell_type": "markdown",
   "metadata": {},
   "source": [
    "## The Numpy way\n",
    "\n",
    "### Reading\n",
    "\n",
    "Numpy has two built in functions for reading data files `np.loadtxt()` and `np.genfromtxt()`. Both work the same way, but `np.genfromtxt()` can handle missing data, so that is the one I generally use. These functions have several keywords for handling the data. The default column delimiter is whitespace, but we need to use commas, so we will set the *delimiter* keyword. Note the default data type is **float**."
   ]
  },
  {
   "cell_type": "code",
   "execution_count": null,
   "metadata": {},
   "outputs": [],
   "source": [
    "#Load all the data into 2-d structured array\n",
    "data_2darr = np.genfromtxt('data/hip_tiny.csv',delimiter=',')\n",
    "print(data_2darr)"
   ]
  },
  {
   "cell_type": "markdown",
   "metadata": {},
   "source": [
    "Oftentimes it is easier to work with a series of 1-d arrays, instead of one big 2-d array. We can work with 1-d arrays by setting the *unpack* keyword to True. We can also specify which columns we want using the *usecols* keyword."
   ]
  },
  {
   "cell_type": "code",
   "execution_count": null,
   "metadata": {},
   "outputs": [],
   "source": [
    "name_arr, vmag_arr = np.genfromtxt('data/hip_tiny.csv',delimiter=',',usecols=(0,5),unpack=True)\n",
    "print(name_arr)\n",
    "print(vmag_arr)"
   ]
  },
  {
   "cell_type": "markdown",
   "metadata": {},
   "source": [
    "If you want to use a 2d array for your data, you can go further and assign names to each column. This way you can access the data by name instead of by indexing."
   ]
  },
  {
   "cell_type": "code",
   "execution_count": null,
   "metadata": {},
   "outputs": [],
   "source": [
    "data_2darr = np.genfromtxt('data/hip_tiny.csv',delimiter=',',names=True)\n",
    "print(data_2darr.dtype.names)\n",
    "print(data_2darr)"
   ]
  },
  {
   "cell_type": "code",
   "execution_count": null,
   "metadata": {},
   "outputs": [],
   "source": [
    "print(data_2darr['Ra_Degrees'])"
   ]
  },
  {
   "cell_type": "code",
   "execution_count": null,
   "metadata": {},
   "outputs": [],
   "source": [
    "data_2darr.dtype.names"
   ]
  },
  {
   "cell_type": "markdown",
   "metadata": {},
   "source": [
    "### Writing\n",
    "\n",
    "The numpy way to write your arrays to files is using `np.savetxt()`. For examlpe, let's try to save the 2d array we just read in a different file and with a different format. First with a very naive approach."
   ]
  },
  {
   "cell_type": "code",
   "execution_count": null,
   "metadata": {},
   "outputs": [],
   "source": [
    "np.savetxt('data/hip_tiny_copy.txt', data_2darr)"
   ]
  },
  {
   "cell_type": "code",
   "execution_count": null,
   "metadata": {},
   "outputs": [],
   "source": [
    "!cat data/hip_tiny_copy.txt"
   ]
  },
  {
   "cell_type": "markdown",
   "metadata": {},
   "source": [
    "As you can see, the default formatting of the file is not very pleasing to the eyes, and we also lose the header information. We can fix this by specifying both things."
   ]
  },
  {
   "cell_type": "code",
   "execution_count": null,
   "metadata": {},
   "outputs": [],
   "source": [
    "header_str = '  '.join([x for x in data_2darr.dtype.names])\n",
    "print(header_str)\n",
    "np.savetxt('data/hip_tiny_copy.txt', data_2darr, header=header_str, fmt='%10f')"
   ]
  },
  {
   "cell_type": "code",
   "execution_count": null,
   "metadata": {},
   "outputs": [],
   "source": [
    "!cat data/hip_tiny_copy.txt"
   ]
  },
  {
   "cell_type": "markdown",
   "metadata": {},
   "source": [
    "Now it looks better, but you can tell we had to work harder for this. You can either make your own function that takes care of all the formatting or use libraries that are more complete.\n",
    "\n",
    "You can read more about the formatting of data here: https://docs.python.org/3/library/string.html#format-specification-mini-language"
   ]
  },
  {
   "cell_type": "markdown",
   "metadata": {},
   "source": [
    "## Astropy Tables\n",
    "The **astropy.table** is a module of astropy. This module provides methods for a new object type called Table. Table objects are very useful for working with large amounts of data with many columns. For instance, we can do all of the above with astropy Tables, and it is able to read from more than just text files. For more information see [the Astropy documentation for table module](http://docs.astropy.org/en/stable/table/)"
   ]
  },
  {
   "cell_type": "code",
   "execution_count": null,
   "metadata": {},
   "outputs": [],
   "source": [
    "from astropy.table import Table #Import in the Astropy object"
   ]
  },
  {
   "cell_type": "markdown",
   "metadata": {},
   "source": [
    "The `Table.read()` method is a very easy way to read in information. It also automatically populates headers."
   ]
  },
  {
   "cell_type": "code",
   "execution_count": null,
   "metadata": {},
   "outputs": [],
   "source": [
    "mytable = Table.read('data/hip_smaller.csv')\n",
    "print(mytable) #Tables are smart enough to show you only the first and last few columns"
   ]
  },
  {
   "cell_type": "markdown",
   "metadata": {},
   "source": [
    "For smaller datasets, you can have direct data access to search and page through the data. **Be Careful: Large datasets can overwhelm your notebook kernel!**"
   ]
  },
  {
   "cell_type": "code",
   "execution_count": null,
   "metadata": {
    "tags": []
   },
   "outputs": [],
   "source": [
    "mytable.show_in_notebook() #Only use for relatively small tables"
   ]
  },
  {
   "cell_type": "markdown",
   "metadata": {},
   "source": [
    "## Reading Data\n",
    "Astropy tables can read/write many different formats: http://docs.astropy.org/en/stable/io/unified.html#built-in-table-readers-writers. Sometimes,though, it needs help."
   ]
  },
  {
   "cell_type": "markdown",
   "metadata": {},
   "source": [
    "We can do a quick check that we succeeded by using a Linux command `head`. `head` shows only the first ten lines of a file. We can access the linux command line by using `!`."
   ]
  },
  {
   "cell_type": "code",
   "execution_count": null,
   "metadata": {},
   "outputs": [],
   "source": [
    "#Show the contents of hip_prob.txt\n",
    "!head data/hip_prob.txt"
   ]
  },
  {
   "cell_type": "code",
   "execution_count": null,
   "metadata": {},
   "outputs": [],
   "source": [
    "prob_tab = Table.read('data/hip_prob.txt')"
   ]
  },
  {
   "cell_type": "code",
   "execution_count": null,
   "metadata": {},
   "outputs": [],
   "source": [
    "#Let's give it some help and suggest a format\n",
    "prob_tab = Table.read('data/hip_prob.txt',format='ascii')\n",
    "print(prob_tab)"
   ]
  },
  {
   "cell_type": "markdown",
   "metadata": {},
   "source": [
    "**Additional note:** Be sure that the number of header columns matches your data. Also no two column names can repeat or it will not read, and the error messages will be **unhelpful**!"
   ]
  },
  {
   "cell_type": "markdown",
   "metadata": {},
   "source": [
    "## Accessing data in an Astropy Table\n",
    "Let's learn how to get useful information about our table."
   ]
  },
  {
   "cell_type": "code",
   "execution_count": null,
   "metadata": {},
   "outputs": [],
   "source": [
    "#Get basic info about our table including how long it is and column names\n",
    "mytable.info()"
   ]
  },
  {
   "cell_type": "code",
   "execution_count": null,
   "metadata": {},
   "outputs": [],
   "source": [
    "#Get statistical information about each column\n",
    "mytable.info('stats')"
   ]
  },
  {
   "cell_type": "markdown",
   "metadata": {},
   "source": [
    "Let's access a single column. The columns of an astropy table are similar to numpy arrays, but they have a column name associated with them. You can transform the columns back into normal numpy arrays using `np.array()`."
   ]
  },
  {
   "cell_type": "code",
   "execution_count": null,
   "metadata": {},
   "outputs": [],
   "source": [
    "#Access one column\n",
    "b_col = mytable['B (mag)']\n",
    "print(b_col[1:3])\n",
    "#Do math with two columns\n",
    "bminusv_col = mytable['B (mag)'] - mytable['V (mag)']\n",
    "print(bminusv_col[1:3])\n",
    "#Convert to a numpy array\n",
    "bminusv_array = np.array(bminusv_col)\n",
    "print(\"Now in array form:\")\n",
    "print(bminusv_array[1:3])"
   ]
  },
  {
   "cell_type": "markdown",
   "metadata": {},
   "source": [
    "You can also access individual rows, or list of indices"
   ]
  },
  {
   "cell_type": "code",
   "execution_count": null,
   "metadata": {},
   "outputs": [],
   "source": [
    "bmag = mytable['B (mag)'][1]\n",
    "print(bmag)\n",
    "bmag_col = mytable['B (mag)'][[1,3,6]]\n",
    "print(bmag_col)"
   ]
  },
  {
   "cell_type": "markdown",
   "metadata": {},
   "source": [
    "The real power of an astropy table is that you can use the results in one column to select values in another column"
   ]
  },
  {
   "cell_type": "code",
   "execution_count": null,
   "metadata": {},
   "outputs": [],
   "source": [
    "#Create a table with only stars less than err_Plx < 1\n",
    "new_tab = mytable[(mytable['err_Plx'] < 1)]\n",
    "new_tab"
   ]
  },
  {
   "cell_type": "markdown",
   "metadata": {},
   "source": [
    "You can also do complex selection using bitwise and (`&`) or bitwise or (`|`)"
   ]
  },
  {
   "cell_type": "code",
   "execution_count": null,
   "metadata": {},
   "outputs": [],
   "source": [
    "#Select stars with Error in Parallax less than 1 and V Magnitude > 7\n",
    "new_tab2 = mytable[(mytable['err_Plx'] < 1) & (mytable['V (mag)'] > 7)]\n",
    "new_tab2"
   ]
  },
  {
   "cell_type": "markdown",
   "metadata": {},
   "source": [
    "You can also access individual columns"
   ]
  },
  {
   "cell_type": "code",
   "execution_count": null,
   "metadata": {},
   "outputs": [],
   "source": [
    "name_col = mytable['#HIP (Name)'][(mytable['err_Plx'] < 1) & (mytable['V (mag)'] > 7)]\n",
    "print(name_col[0:5])"
   ]
  },
  {
   "cell_type": "markdown",
   "metadata": {},
   "source": [
    "## Modifying a table\n",
    "You can modify a table the same way you modify a numpy array"
   ]
  },
  {
   "cell_type": "code",
   "execution_count": null,
   "metadata": {},
   "outputs": [],
   "source": [
    "change_tab = mytable\n",
    "change_tab['#HIP (Name)'][[0,1,2,5,6,7]] = [1000,19,156,208,11,16453]\n",
    "change_tab"
   ]
  },
  {
   "cell_type": "markdown",
   "metadata": {},
   "source": [
    "You can also add new columns, rename, or remove old ones. Just make sure that the new column has exactly the same length as the table. You can also use units with your table."
   ]
  },
  {
   "cell_type": "code",
   "execution_count": null,
   "metadata": {},
   "outputs": [],
   "source": [
    "new_column1 = np.arange(len(mytable))\n",
    "new_column2 = mytable['Plx (milliarcsec)'] / 1000.0\n",
    "change_tab['index'] = new_column1\n",
    "change_tab['Plx'] = new_column2*u.arcsec\n",
    "change_tab.rename_column('err_B','error_B')\n",
    "change_tab.remove_column('err_V')\n",
    "change_tab #Note the new row that gives the unit"
   ]
  },
  {
   "cell_type": "markdown",
   "metadata": {},
   "source": [
    "## Creating a table from scratch\n",
    "Often times you want to save a new table based on your work. Remember tables can have units too. Adding new columns is just like a dictionary."
   ]
  },
  {
   "cell_type": "code",
   "execution_count": null,
   "metadata": {},
   "outputs": [],
   "source": [
    "new_tab = Table()\n",
    "new_tab['Name'] = np.arange(10)\n",
    "new_tab['Distance'] = new_tab['Name'] * 10 * u.km\n",
    "new_tab['Distance2'] = new_tab['Distance'].to(u.m)\n",
    "print(new_tab)"
   ]
  },
  {
   "cell_type": "markdown",
   "metadata": {},
   "source": [
    "## Writing out a Table\n",
    "Once you have a table you can write it out into any of the formats in http://docs.astropy.org/en/stable/io/unified.html#built-in-table-readers-writers. Let's write out the same table using a commas separted file and a pipe `|` separated file."
   ]
  },
  {
   "cell_type": "code",
   "execution_count": null,
   "metadata": {},
   "outputs": [],
   "source": [
    "new_tab.write('data/distance.csv')\n",
    "new_tab.write('data/distance.txt',format='ascii',delimiter='|')"
   ]
  },
  {
   "cell_type": "code",
   "execution_count": null,
   "metadata": {},
   "outputs": [],
   "source": [
    "!head data/distance.csv"
   ]
  },
  {
   "cell_type": "code",
   "execution_count": null,
   "metadata": {},
   "outputs": [],
   "source": [
    "!head data/distance.txt"
   ]
  },
  {
   "cell_type": "markdown",
   "metadata": {},
   "source": [
    "When we write to ascii we lose the units. We can use one of the enhanced file types like ipac to store our infomation with metadata. If you are going to overwrite a file, you need to set overwrite to True."
   ]
  },
  {
   "cell_type": "code",
   "execution_count": null,
   "metadata": {},
   "outputs": [],
   "source": [
    "new_tab.write('data/distance.txt',format='ascii.ipac',overwrite=True)\n",
    "!head data/distance.txt"
   ]
  },
  {
   "cell_type": "markdown",
   "metadata": {},
   "source": [
    "Finally, we can also store files in binary format. These cannot be read by `head`. The most common binary format in astronomy is the FITS format. You have to use the command "
   ]
  },
  {
   "cell_type": "code",
   "execution_count": null,
   "metadata": {},
   "outputs": [],
   "source": [
    "new_tab.write('data/distance.fits') #If you need to overwrite put in overwrite=True\n",
    "new2_tab = Table.read('data/distance.fits')\n",
    "print(new2_tab) #Note the units survive"
   ]
  },
  {
   "cell_type": "markdown",
   "metadata": {},
   "source": [
    "## Lab 6: Now it is your turn\n",
    "Please answer the following questions, then print them off and turn them in. You don't need to print the whole notebook. Only print the pages starting from here."
   ]
  },
  {
   "cell_type": "markdown",
   "metadata": {},
   "source": [
    "Name: "
   ]
  },
  {
   "cell_type": "markdown",
   "metadata": {},
   "source": [
    "**Q1: Create numpy arrays from `data/hip_small.csv` for RA and DEC called ra_arr and dec_arr using the Standard Method. Print the Median of each.**"
   ]
  },
  {
   "cell_type": "code",
   "execution_count": null,
   "metadata": {},
   "outputs": [],
   "source": []
  },
  {
   "cell_type": "markdown",
   "metadata": {},
   "source": [
    "**Q2: Create a numpy array using `np.genfromtxt` from `data/hip_small.csv` for Plx called plx_arr. Print the minimum value.**"
   ]
  },
  {
   "cell_type": "code",
   "execution_count": null,
   "metadata": {},
   "outputs": [],
   "source": []
  },
  {
   "cell_type": "markdown",
   "metadata": {},
   "source": [
    "**Q3: Print off only those stars that have an RA less than 5 and a Parallax less than 20 in `mytable`.**"
   ]
  },
  {
   "cell_type": "code",
   "execution_count": null,
   "metadata": {},
   "outputs": [],
   "source": []
  },
  {
   "cell_type": "markdown",
   "metadata": {},
   "source": [
    "**Q4: Add a column to `change_tab` called `new_err_plx` based on the `err_Plx` column that has values and units arcsecs. (Hint: All `err` columns have the same units as the associated data columns)**"
   ]
  },
  {
   "cell_type": "code",
   "execution_count": null,
   "metadata": {},
   "outputs": [],
   "source": []
  },
  {
   "cell_type": "markdown",
   "metadata": {},
   "source": [
    "**Q5: Using `data/hip_smaller.csv` read in the file and create an astropy table called `hip_tab`. Then give the columns that have units in their name, the correct units, and then remove the units from the name of the column. Show your results.**"
   ]
  },
  {
   "cell_type": "code",
   "execution_count": null,
   "metadata": {},
   "outputs": [],
   "source": []
  },
  {
   "cell_type": "markdown",
   "metadata": {},
   "source": [
    "**Q6:Using `hip_tab` create a new table called `north_tab` with Dec greater than 0 degrees and Plx between 10 and 50 marcsec. Then make Plx and plx_err have units of arcsecs.**"
   ]
  },
  {
   "cell_type": "code",
   "execution_count": null,
   "metadata": {},
   "outputs": [],
   "source": []
  }
 ],
 "metadata": {
  "kernelspec": {
   "display_name": "Python 3 (ipykernel)",
   "language": "python",
   "name": "python3"
  },
  "language_info": {
   "codemirror_mode": {
    "name": "ipython",
    "version": 3
   },
   "file_extension": ".py",
   "mimetype": "text/x-python",
   "name": "python",
   "nbconvert_exporter": "python",
   "pygments_lexer": "ipython3",
   "version": "3.9.7"
  }
 },
 "nbformat": 4,
 "nbformat_minor": 4
}
